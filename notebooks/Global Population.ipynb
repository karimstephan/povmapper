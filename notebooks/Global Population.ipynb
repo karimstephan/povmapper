{
 "cells": [
  {
   "cell_type": "markdown",
   "id": "8684cca8-acd8-45ad-9131-958fa6c3169a",
   "metadata": {
    "tags": []
   },
   "source": [
    "## Authenticating on Google Earth Engine"
   ]
  },
  {
   "cell_type": "code",
   "execution_count": 1,
   "id": "715fac77-fa4d-4b9b-aaea-7960fd9911bf",
   "metadata": {},
   "outputs": [
    {
     "data": {
      "text/html": [
       "<p>To authorize access needed by Earth Engine, open the following\n",
       "        URL in a web browser and follow the instructions:</p>\n",
       "        <p><a href=https://code.earthengine.google.com/client-auth?scopes=https%3A//www.googleapis.com/auth/earthengine%20https%3A//www.googleapis.com/auth/devstorage.full_control&request_id=vST8Pku96a34myAvebr__L6wTLfy6xLkStHoveCb2DE&tc=53pURKFDAzdJ3QGbr-KPvMAFVwwAubQZyIGTaQFJQU0&cc=AIhNkdIvfmlg2lbsd97fnzH5VdjE50-CWuwqVsAGLsI>https://code.earthengine.google.com/client-auth?scopes=https%3A//www.googleapis.com/auth/earthengine%20https%3A//www.googleapis.com/auth/devstorage.full_control&request_id=vST8Pku96a34myAvebr__L6wTLfy6xLkStHoveCb2DE&tc=53pURKFDAzdJ3QGbr-KPvMAFVwwAubQZyIGTaQFJQU0&cc=AIhNkdIvfmlg2lbsd97fnzH5VdjE50-CWuwqVsAGLsI</a></p>\n",
       "        <p>The authorization workflow will generate a code, which you\n",
       "        should paste in the box below</p>\n",
       "        "
      ],
      "text/plain": [
       "<IPython.core.display.HTML object>"
      ]
     },
     "metadata": {},
     "output_type": "display_data"
    },
    {
     "name": "stdin",
     "output_type": "stream",
     "text": [
      "Enter verification code:  4/1AX4XfWgXKXBR_DbeWWGtj_Kf8ZLkyTwhmkW-hT0zvApJQENNk3q9sVlTjWU\n"
     ]
    },
    {
     "name": "stdout",
     "output_type": "stream",
     "text": [
      "\n",
      "Successfully saved authorization token.\n"
     ]
    }
   ],
   "source": [
    "import ee\n",
    "\n",
    "# Trigger the authentication flow.\n",
    "ee.Authenticate()\n",
    "\n",
    "# Initialize the library.\n",
    "ee.Initialize()"
   ]
  },
  {
   "cell_type": "markdown",
   "id": "6c7ba65a-5d47-493a-bc2e-cc900c543ffa",
   "metadata": {
    "tags": []
   },
   "source": [
    "## Creating an image collection based on Gridded Population of the World Version 4.11"
   ]
  },
  {
   "cell_type": "code",
   "execution_count": 2,
   "id": "8ea20fcd-7616-4999-b492-507e4933ce62",
   "metadata": {},
   "outputs": [],
   "source": [
    "#https://developers.google.com/earth-engine/datasets/catalog/CIESIN_GPWv411_GPW_Population_Count#description\n",
    "# 'l' is for visualization purposes\n",
    "l = ee.ImageCollection(\"CIESIN/GPWv411/GPW_Population_Count\").first()"
   ]
  },
  {
   "cell_type": "markdown",
   "id": "7d1bcc3b-3ee3-40a2-a296-6dc5586293a5",
   "metadata": {
    "tags": []
   },
   "source": [
    "## Basic visualization of population count on map"
   ]
  },
  {
   "cell_type": "code",
   "execution_count": 3,
   "id": "5d4689e3-bb55-42c1-8573-90a07ba884aa",
   "metadata": {},
   "outputs": [],
   "source": [
    "# 'e' is to visualize population count\n",
    "e = l.select('population_count')"
   ]
  },
  {
   "cell_type": "code",
   "execution_count": 4,
   "id": "f81bc289-410d-4708-b822-a5142b7f7c11",
   "metadata": {},
   "outputs": [
    {
     "name": "stdout",
     "output_type": "stream",
     "text": [
      "https://earthengine.googleapis.com/v1alpha/projects/earthengine-legacy/thumbnails/49068f3e80a22ac32782551349000840-d5b590fda47cf07c29de9168a17a0c94:getPixels\n",
      "\n",
      "Please wait while the thumbnail loads, it may take a moment...\n"
     ]
    },
    {
     "data": {
      "text/html": [
       "<img src=\"https://earthengine.googleapis.com/v1alpha/projects/earthengine-legacy/thumbnails/49068f3e80a22ac32782551349000840-d5b590fda47cf07c29de9168a17a0c94:getPixels\"/>"
      ],
      "text/plain": [
       "<IPython.core.display.Image object>"
      ]
     },
     "execution_count": 4,
     "metadata": {},
     "output_type": "execute_result"
    }
   ],
   "source": [
    "from IPython.display import Image\n",
    "\n",
    "#visualising basic population count on map\n",
    "\n",
    "# Create a URL to the styled image for a region around France.\n",
    "url = e.getThumbUrl({\n",
    "  \"max\": 1000.0,\n",
    "  \"palette\": [\n",
    "    \"ffffe7\",\n",
    "    \"86a192\",\n",
    "    \"509791\",\n",
    "    \"307296\",\n",
    "    \"2c4484\",\n",
    "    \"000066\"\n",
    "  ],\"dimensions\":4096,\n",
    "  \"min\": 0.0\n",
    "})\n",
    "print(url)\n",
    "\n",
    "# Display the thumbnail land surface temperature in France.\n",
    "print('\\nPlease wait while the thumbnail loads, it may take a moment...')\n",
    "Image(url=url)"
   ]
  },
  {
   "cell_type": "markdown",
   "id": "21f4c43f-2ce9-45d4-982a-492df591c2b9",
   "metadata": {},
   "source": [
    "## Creating dataframe with population count according to coordinates"
   ]
  },
  {
   "cell_type": "code",
   "execution_count": 24,
   "id": "6cb10d8f-da2b-4d6f-91c0-3f372aca2b94",
   "metadata": {},
   "outputs": [],
   "source": [
    "# 'd' is to create dataframe (the same as 'l' but excluding '.first()'\n",
    "d= ee.ImageCollection(\"CIESIN/GPWv411/GPW_Population_Count\")"
   ]
  },
  {
   "cell_type": "code",
   "execution_count": 173,
   "id": "55e63f1d-2bc0-4312-9238-b5abc8d0f09a",
   "metadata": {},
   "outputs": [],
   "source": [
    "scale = ee.ImageCollection(\"CIESIN/GPWv411/GPW_Population_Count\").first().projection().nominalScale()"
   ]
  },
  {
   "cell_type": "code",
   "execution_count": 189,
   "id": "d4e0dca9-97f0-4c96-9b0f-af607d9f796b",
   "metadata": {},
   "outputs": [],
   "source": [
    "import folium\n",
    "lat, lon = 33.8938, 35.5018\n",
    "#scale is in meters\n",
    "scale = 1\n",
    "u_poi = ee.Geometry.Point(lon, lat)"
   ]
  },
  {
   "cell_type": "code",
   "execution_count": 190,
   "id": "1482e5ab-1e7b-4b65-98bf-ea4848ac59df",
   "metadata": {},
   "outputs": [],
   "source": [
    "e_u_poi = d.select('population_count').getRegion(u_poi, scale).getInfo()"
   ]
  },
  {
   "cell_type": "code",
   "execution_count": 191,
   "id": "e69a5e91-f9cd-4fcc-82f9-569d8b81557b",
   "metadata": {},
   "outputs": [],
   "source": [
    "import pandas as pd\n",
    "df = pd.DataFrame(e_u_poi)"
   ]
  },
  {
   "cell_type": "code",
   "execution_count": 192,
   "id": "c7a97096-eae3-46dd-bdb6-b1132356b69f",
   "metadata": {},
   "outputs": [],
   "source": [
    "df.columns = df.iloc[0]"
   ]
  },
  {
   "cell_type": "code",
   "execution_count": 193,
   "id": "b9e4e20a-e58e-4fc1-80f2-753324b8ec2d",
   "metadata": {},
   "outputs": [
    {
     "data": {
      "text/html": [
       "<div>\n",
       "<style scoped>\n",
       "    .dataframe tbody tr th:only-of-type {\n",
       "        vertical-align: middle;\n",
       "    }\n",
       "\n",
       "    .dataframe tbody tr th {\n",
       "        vertical-align: top;\n",
       "    }\n",
       "\n",
       "    .dataframe thead th {\n",
       "        text-align: right;\n",
       "    }\n",
       "</style>\n",
       "<table border=\"1\" class=\"dataframe\">\n",
       "  <thead>\n",
       "    <tr style=\"text-align: right;\">\n",
       "      <th></th>\n",
       "      <th>id</th>\n",
       "      <th>longitude</th>\n",
       "      <th>latitude</th>\n",
       "      <th>time</th>\n",
       "      <th>population_count</th>\n",
       "    </tr>\n",
       "  </thead>\n",
       "  <tbody>\n",
       "    <tr>\n",
       "      <th>1</th>\n",
       "      <td>gpw_v4_population_count_rev11_2000_30_sec</td>\n",
       "      <td>35.501802</td>\n",
       "      <td>33.893799</td>\n",
       "      <td>946684800000</td>\n",
       "      <td>7817.134277</td>\n",
       "    </tr>\n",
       "    <tr>\n",
       "      <th>2</th>\n",
       "      <td>gpw_v4_population_count_rev11_2005_30_sec</td>\n",
       "      <td>35.501802</td>\n",
       "      <td>33.893799</td>\n",
       "      <td>1104537600000</td>\n",
       "      <td>9581.345703</td>\n",
       "    </tr>\n",
       "    <tr>\n",
       "      <th>3</th>\n",
       "      <td>gpw_v4_population_count_rev11_2010_30_sec</td>\n",
       "      <td>35.501802</td>\n",
       "      <td>33.893799</td>\n",
       "      <td>1262304000000</td>\n",
       "      <td>11743.712891</td>\n",
       "    </tr>\n",
       "    <tr>\n",
       "      <th>4</th>\n",
       "      <td>gpw_v4_population_count_rev11_2015_30_sec</td>\n",
       "      <td>35.501802</td>\n",
       "      <td>33.893799</td>\n",
       "      <td>1420070400000</td>\n",
       "      <td>14394.094727</td>\n",
       "    </tr>\n",
       "    <tr>\n",
       "      <th>5</th>\n",
       "      <td>gpw_v4_population_count_rev11_2020_30_sec</td>\n",
       "      <td>35.501802</td>\n",
       "      <td>33.893799</td>\n",
       "      <td>1577836800000</td>\n",
       "      <td>17642.628906</td>\n",
       "    </tr>\n",
       "  </tbody>\n",
       "</table>\n",
       "</div>"
      ],
      "text/plain": [
       "0                                         id  longitude   latitude  \\\n",
       "1  gpw_v4_population_count_rev11_2000_30_sec  35.501802  33.893799   \n",
       "2  gpw_v4_population_count_rev11_2005_30_sec  35.501802  33.893799   \n",
       "3  gpw_v4_population_count_rev11_2010_30_sec  35.501802  33.893799   \n",
       "4  gpw_v4_population_count_rev11_2015_30_sec  35.501802  33.893799   \n",
       "5  gpw_v4_population_count_rev11_2020_30_sec  35.501802  33.893799   \n",
       "\n",
       "0           time population_count  \n",
       "1   946684800000      7817.134277  \n",
       "2  1104537600000      9581.345703  \n",
       "3  1262304000000     11743.712891  \n",
       "4  1420070400000     14394.094727  \n",
       "5  1577836800000     17642.628906  "
      ]
     },
     "execution_count": 193,
     "metadata": {},
     "output_type": "execute_result"
    }
   ],
   "source": [
    "df = df[1:]\n",
    "df"
   ]
  },
  {
   "cell_type": "code",
   "execution_count": 165,
   "id": "4d306c83-73ac-44ba-b540-bfdf863f427b",
   "metadata": {},
   "outputs": [
    {
     "data": {
      "text/html": [
       "<div>\n",
       "<style scoped>\n",
       "    .dataframe tbody tr th:only-of-type {\n",
       "        vertical-align: middle;\n",
       "    }\n",
       "\n",
       "    .dataframe tbody tr th {\n",
       "        vertical-align: top;\n",
       "    }\n",
       "\n",
       "    .dataframe thead th {\n",
       "        text-align: right;\n",
       "    }\n",
       "</style>\n",
       "<table border=\"1\" class=\"dataframe\">\n",
       "  <thead>\n",
       "    <tr style=\"text-align: right;\">\n",
       "      <th></th>\n",
       "      <th>id</th>\n",
       "      <th>longitude</th>\n",
       "      <th>latitude</th>\n",
       "      <th>time</th>\n",
       "      <th>population_count</th>\n",
       "    </tr>\n",
       "  </thead>\n",
       "  <tbody>\n",
       "    <tr>\n",
       "      <th>0</th>\n",
       "      <td>gpw_v4_population_count_rev11_2000_30_sec</td>\n",
       "      <td>35.501802</td>\n",
       "      <td>33.893799</td>\n",
       "      <td>946684800000</td>\n",
       "      <td>7817.134277</td>\n",
       "    </tr>\n",
       "    <tr>\n",
       "      <th>1</th>\n",
       "      <td>gpw_v4_population_count_rev11_2005_30_sec</td>\n",
       "      <td>35.501802</td>\n",
       "      <td>33.893799</td>\n",
       "      <td>1104537600000</td>\n",
       "      <td>9581.345703</td>\n",
       "    </tr>\n",
       "    <tr>\n",
       "      <th>2</th>\n",
       "      <td>gpw_v4_population_count_rev11_2010_30_sec</td>\n",
       "      <td>35.501802</td>\n",
       "      <td>33.893799</td>\n",
       "      <td>1262304000000</td>\n",
       "      <td>11743.712891</td>\n",
       "    </tr>\n",
       "    <tr>\n",
       "      <th>3</th>\n",
       "      <td>gpw_v4_population_count_rev11_2015_30_sec</td>\n",
       "      <td>35.501802</td>\n",
       "      <td>33.893799</td>\n",
       "      <td>1420070400000</td>\n",
       "      <td>14394.094727</td>\n",
       "    </tr>\n",
       "    <tr>\n",
       "      <th>4</th>\n",
       "      <td>gpw_v4_population_count_rev11_2020_30_sec</td>\n",
       "      <td>35.501802</td>\n",
       "      <td>33.893799</td>\n",
       "      <td>1577836800000</td>\n",
       "      <td>17642.628906</td>\n",
       "    </tr>\n",
       "  </tbody>\n",
       "</table>\n",
       "</div>"
      ],
      "text/plain": [
       "0                                         id  longitude   latitude  \\\n",
       "0  gpw_v4_population_count_rev11_2000_30_sec  35.501802  33.893799   \n",
       "1  gpw_v4_population_count_rev11_2005_30_sec  35.501802  33.893799   \n",
       "2  gpw_v4_population_count_rev11_2010_30_sec  35.501802  33.893799   \n",
       "3  gpw_v4_population_count_rev11_2015_30_sec  35.501802  33.893799   \n",
       "4  gpw_v4_population_count_rev11_2020_30_sec  35.501802  33.893799   \n",
       "\n",
       "0           time population_count  \n",
       "0   946684800000      7817.134277  \n",
       "1  1104537600000      9581.345703  \n",
       "2  1262304000000     11743.712891  \n",
       "3  1420070400000     14394.094727  \n",
       "4  1577836800000     17642.628906  "
      ]
     },
     "execution_count": 165,
     "metadata": {},
     "output_type": "execute_result"
    }
   ],
   "source": [
    "df.reset_index(inplace=True, drop=True)\n",
    "df"
   ]
  },
  {
   "cell_type": "code",
   "execution_count": 119,
   "id": "63cfbcbc-8248-42c8-87b5-86165470d52f",
   "metadata": {},
   "outputs": [
    {
     "data": {
      "text/html": [
       "<div>\n",
       "<style scoped>\n",
       "    .dataframe tbody tr th:only-of-type {\n",
       "        vertical-align: middle;\n",
       "    }\n",
       "\n",
       "    .dataframe tbody tr th {\n",
       "        vertical-align: top;\n",
       "    }\n",
       "\n",
       "    .dataframe thead th {\n",
       "        text-align: right;\n",
       "    }\n",
       "</style>\n",
       "<table border=\"1\" class=\"dataframe\">\n",
       "  <thead>\n",
       "    <tr style=\"text-align: right;\">\n",
       "      <th></th>\n",
       "      <th>id</th>\n",
       "      <th>longitude</th>\n",
       "      <th>latitude</th>\n",
       "      <th>time</th>\n",
       "      <th>population_count</th>\n",
       "    </tr>\n",
       "  </thead>\n",
       "  <tbody>\n",
       "    <tr>\n",
       "      <th>4</th>\n",
       "      <td>gpw_v4_population_count_rev11_2020_30_sec</td>\n",
       "      <td>35.510403</td>\n",
       "      <td>33.893436</td>\n",
       "      <td>1577836800000</td>\n",
       "      <td>26484.136719</td>\n",
       "    </tr>\n",
       "  </tbody>\n",
       "</table>\n",
       "</div>"
      ],
      "text/plain": [
       "0                                         id  longitude   latitude  \\\n",
       "4  gpw_v4_population_count_rev11_2020_30_sec  35.510403  33.893436   \n",
       "\n",
       "0           time population_count  \n",
       "4  1577836800000     26484.136719  "
      ]
     },
     "execution_count": 119,
     "metadata": {},
     "output_type": "execute_result"
    }
   ],
   "source": [
    "#selecting only 2020 population count\n",
    "df = df.iloc[[4]]\n",
    "df"
   ]
  },
  {
   "cell_type": "markdown",
   "id": "ec161603-09f8-4704-b57f-fe161c88853c",
   "metadata": {
    "jp-MarkdownHeadingCollapsed": true,
    "tags": []
   },
   "source": [
    "## Miscellaneous (to visualize based on coordinates?) - NOT COMPLETE"
   ]
  },
  {
   "cell_type": "code",
   "execution_count": null,
   "id": "1b62e73c-cb3f-4656-926b-f14555c1a758",
   "metadata": {},
   "outputs": [],
   "source": [
    "my_map = folium.Map(location=[lat, lon], scale=scale)\n",
    "# Add the land cover to the map object.\n",
    "my_map.add_ee_layer(e, vis_params, 'population_count')\n",
    "\n",
    "# Add a layer control panel to the map.\n",
    "my_map.add_child(folium.LayerControl())\n",
    "\n",
    "# Display the map.\n",
    "display(my_map)"
   ]
  },
  {
   "cell_type": "code",
   "execution_count": null,
   "id": "2f253738-37dd-474c-ada5-f7d6f34958bb",
   "metadata": {},
   "outputs": [],
   "source": [
    "#visualization parameters \n",
    "\n",
    "vis_params= {\n",
    "  \"max\": 1000.0,\n",
    "  \"palette\": [\n",
    "    \"ffffe7\",\n",
    "    \"86a192\",\n",
    "    \"509791\",\n",
    "    \"307296\",\n",
    "    \"2c4484\",\n",
    "    \"000066\"\n",
    "  ],\"dimensions\":4096,\n",
    "  \"min\": 0.0\n",
    "}"
   ]
  },
  {
   "cell_type": "code",
   "execution_count": null,
   "id": "060b5190-60f5-4f31-b875-e75caf8d74d3",
   "metadata": {},
   "outputs": [],
   "source": [
    "def add_ee_layer(self, ee_image_object, vis_params, name):\n",
    "    \"\"\"Adds a method for displaying Earth Engine image tiles to folium map.\"\"\"\n",
    "    map_id_dict = ee.Image(e).getMapId(vis_params)\n",
    "    folium.raster_layers.TileLayer(\n",
    "        tiles=map_id_dict['tile_fetcher'].url_format,\n",
    "        attr='Map Data &copy; <a href=\"https://earthengine.google.com/\">Google Earth Engine</a>',\n",
    "        name=name,\n",
    "        overlay=True,\n",
    "        control=True\n",
    "    ).add_to(self)\n",
    "\n",
    "# Add Earth Engine drawing method to folium.\n",
    "folium.Map.add_ee_layer = add_ee_layer"
   ]
  },
  {
   "cell_type": "code",
   "execution_count": null,
   "id": "f561a5ed-0bf9-4716-99e5-6708de6d7962",
   "metadata": {
    "tags": []
   },
   "outputs": [],
   "source": [
    "lat, lon = 24.02273182331778, 25.499267231174024\n",
    "scale = 7\n",
    "u_poi = ee.Geometry.Point(lon, lat)\n",
    "my_map = folium.Map(location=[lat, lon], scale=scale)\n",
    "\n",
    "# Add the land cover to the map object.\n",
    "my_map.add_ee_layer(e, vis_params, 'population_count')\n",
    "\n",
    "# Add a layer control panel to the map.\n",
    "my_map.add_child(folium.LayerControl())\n",
    "\n",
    "# Display the map.\n",
    "display(my_map)"
   ]
  },
  {
   "cell_type": "markdown",
   "id": "07c1bad0-e58e-487d-bc4d-db9a164a28b8",
   "metadata": {
    "jp-MarkdownHeadingCollapsed": true,
    "tags": []
   },
   "source": [
    "## Failed Wikipedia Location Based Population Scraping"
   ]
  },
  {
   "cell_type": "code",
   "execution_count": 194,
   "id": "792957d3-0913-4490-9e1c-216b74d819a4",
   "metadata": {},
   "outputs": [],
   "source": [
    "import requests\n",
    "from bs4 import BeautifulSoup"
   ]
  },
  {
   "cell_type": "code",
   "execution_count": 205,
   "id": "c01fe381-635b-4ace-bcaf-d94832bf65dc",
   "metadata": {},
   "outputs": [],
   "source": [
    "inputt='miami'\n",
    "response = requests.get(\n",
    "    url=f\"https://en.wikipedia.org/wiki/{inputt}\",\n",
    ")"
   ]
  },
  {
   "cell_type": "code",
   "execution_count": 206,
   "id": "7612d506-90ef-40f3-8539-68c05a89aba7",
   "metadata": {},
   "outputs": [],
   "source": [
    "soup = BeautifulSoup(response.content, 'html.parser')"
   ]
  },
  {
   "cell_type": "code",
   "execution_count": 207,
   "id": "80de14d9-b9b8-41c1-9e52-efd648277861",
   "metadata": {},
   "outputs": [
    {
     "name": "stdout",
     "output_type": "stream",
     "text": [
      "[<tr class=\"mergedrow\"><th class=\"infobox-label\" scope=\"row\"><a href=\"/wiki/U.S._state\" title=\"U.S. state\">State</a></th><td class=\"infobox-data\"><a href=\"/wiki/Florida\" title=\"Florida\">Florida</a></td></tr>, <tr class=\"mergedrow\"><th class=\"infobox-label\" scope=\"row\"><a href=\"/wiki/County_(United_States)\" title=\"County (United States)\">Constituent counties</a> (<a href=\"/wiki/List_of_counties_in_Florida\" title=\"List of counties in Florida\">County</a>)</th><td class=\"infobox-data\"><a href=\"/wiki/Miami-Dade_County,_Florida\" title=\"Miami-Dade County, Florida\">Miami-Dade</a></td></tr>, <tr class=\"mergedrow\"><th class=\"infobox-label\" scope=\"row\"><a href=\"/wiki/List_of_regions_of_the_United_States\" title=\"List of regions of the United States\">Region</a></th><td class=\"infobox-data\"><a href=\"/wiki/South_Atlantic_states\" title=\"South Atlantic states\">South Atlantic</a></td></tr>, <tr class=\"mergedrow\"><th class=\"infobox-label\" scope=\"row\"><a href=\"/wiki/Municipal_corporation\" title=\"Municipal corporation\">Incorporated</a></th><td class=\"infobox-data\">July 28, 1896</td></tr>, <tr class=\"mergedrow\"><th class=\"infobox-label\" scope=\"row\">Founded by</th><td class=\"infobox-data\"><a href=\"/wiki/Julia_Tuttle\" title=\"Julia Tuttle\">Julia Tuttle</a></td></tr>, <tr class=\"mergedrow\"><th class=\"infobox-label\" scope=\"row\"><a href=\"/wiki/Namesake\" title=\"Namesake\">Named for</a></th><td class=\"infobox-data\"><a href=\"/wiki/Mayaimi\" title=\"Mayaimi\">Mayaimi</a></td></tr>, <tr class=\"mergedrow\"><th class=\"infobox-label\" scope=\"row\"> • Type</th><td class=\"infobox-data\"><a href=\"/wiki/Mayor%E2%80%93council_government\" title=\"Mayor–council government\">Mayor–Commission</a></td></tr>, <tr class=\"mergedrow\"><th class=\"infobox-label\" scope=\"row\"> • <a href=\"/wiki/List_of_mayors_of_Miami\" title=\"List of mayors of Miami\">Mayor</a></th><td class=\"infobox-data\"><a href=\"/wiki/Francis_X._Suarez\" title=\"Francis X. Suarez\">Francis X. Suarez</a> (<a href=\"/wiki/Republican_Party_(United_States)\" title=\"Republican Party (United States)\">R</a>)</td></tr>, <tr class=\"mergedrow\"><th class=\"infobox-label\" scope=\"row\"> • Total</th><td class=\"infobox-data\">56.07 sq mi (145.23 km<sup>2</sup>)</td></tr>, <tr class=\"mergedrow\"><th class=\"infobox-label\" scope=\"row\"> • Land</th><td class=\"infobox-data\">36.00 sq mi (93.23 km<sup>2</sup>)</td></tr>, <tr class=\"mergedrow\"><th class=\"infobox-label\" scope=\"row\"> • Water</th><td class=\"infobox-data\">20.08 sq mi (52.00 km<sup>2</sup>)</td></tr>, <tr class=\"mergedrow\"><th class=\"infobox-label\" scope=\"row\"> • Metro<div class=\"ib-settlement-fn\"></div></th><td class=\"infobox-data\">6,137 sq mi (15,890 km<sup>2</sup>)</td></tr>, <tr class=\"mergedrow\"><th class=\"infobox-label\" scope=\"row\">Highest elevation<div class=\"ib-settlement-fn\"></div></th><td class=\"infobox-data\">42 ft (12.8 m)</td></tr>, <tr class=\"mergedrow\"><th class=\"infobox-label\" scope=\"row\"> • Total</th><td class=\"infobox-data\">442,241<sup class=\"reference\" id=\"cite_ref-QuickFacts_2-0\"><a href=\"#cite_note-QuickFacts-2\">[2]</a></sup></td></tr>, <tr class=\"mergedrow\"><th class=\"infobox-label\" scope=\"row\"> • Rank</th><td class=\"infobox-data\"><a href=\"/wiki/List_of_United_States_cities_by_population\" title=\"List of United States cities by population\">44th</a> in the United States<br/><a href=\"/wiki/List_of_municipalities_in_Florida\" title=\"List of municipalities in Florida\">2nd</a> in Florida</td></tr>, <tr class=\"mergedrow\"><th class=\"infobox-label\" scope=\"row\"> • Density</th><td class=\"infobox-data\">12,284.47/sq mi (4,743.55/km<sup>2</sup>)</td></tr>, <tr class=\"mergedrow\"><th class=\"infobox-label\" scope=\"row\"> • <a href=\"/wiki/Metropolitan_area\" title=\"Metropolitan area\">Metro</a><div class=\"ib-settlement-fn\"><sup class=\"reference\" id=\"cite_ref-2020Pop_8-0\"><a href=\"#cite_note-2020Pop-8\">[7]</a></sup></div></th><td class=\"infobox-data\">6,138,333 (<a class=\"mw-redirect\" href=\"/wiki/List_of_metropolitan_statistical_areas\" title=\"List of metropolitan statistical areas\">8th</a>)</td></tr>, <tr class=\"mergedrow\"><th class=\"infobox-label\" scope=\"row\"><span class=\"nowrap\"> • Summer (<a href=\"/wiki/Daylight_saving_time\" title=\"Daylight saving time\">DST</a>)</span></th><td class=\"infobox-data\"><a href=\"/wiki/UTC%E2%88%9204:00\" title=\"UTC−04:00\">UTC−04:00</a></td></tr>, <tr class=\"mergedrow\"><th class=\"infobox-label\" scope=\"row\"><a href=\"/wiki/Telephone_numbering_plan\" title=\"Telephone numbering plan\">Area code(s)</a></th><td class=\"infobox-data\"><a href=\"/wiki/Area_codes_305_and_786\" title=\"Area codes 305 and 786\">305 and 786</a></td></tr>, <tr class=\"mergedrow\"><th class=\"infobox-label\" scope=\"row\"><a href=\"/wiki/Geographic_Names_Information_System\" title=\"Geographic Names Information System\">GNIS</a> feature ID</th><td class=\"infobox-data\"><a class=\"external text\" href=\"https://edits.nationalmap.gov/apps/gaz-domestic/public/summary/277593\" rel=\"nofollow\">277593</a>, <a class=\"external text\" href=\"https://edits.nationalmap.gov/apps/gaz-domestic/public/summary/2411786\" rel=\"nofollow\">2411786</a></td></tr>, <tr class=\"mergedrow\"><th class=\"infobox-label\" scope=\"row\"><a class=\"mw-redirect\" href=\"/wiki/International_airports\" title=\"International airports\">International airports</a></th><td class=\"infobox-data\"><a href=\"/wiki/Miami_International_Airport\" title=\"Miami International Airport\">Miami International Airport</a><br/><a href=\"/wiki/Fort_Lauderdale%E2%80%93Hollywood_International_Airport\" title=\"Fort Lauderdale–Hollywood International Airport\">Fort Lauderdale–Hollywood International Airport</a><br/><a href=\"/wiki/Palm_Beach_International_Airport\" title=\"Palm Beach International Airport\">Palm Beach International Airport</a></td></tr>, <tr class=\"mergedrow\"><th class=\"infobox-label\" scope=\"row\"><a href=\"/wiki/Commuter_rail\" title=\"Commuter rail\">Commuter rail</a></th><td class=\"infobox-data\"><a href=\"/wiki/Tri-Rail\" title=\"Tri-Rail\">Tri-Rail</a>, <a href=\"/wiki/Brightline\" title=\"Brightline\">Brightline</a></td></tr>, <tr class=\"mergedrow\"><th class=\"infobox-label\" scope=\"row\"><a href=\"/wiki/Rapid_transit\" title=\"Rapid transit\">Rapid transit</a></th><td class=\"infobox-data\"><a href=\"/wiki/Metrorail_(Miami-Dade_County)\" title=\"Metrorail (Miami-Dade County)\"><img alt=\"MDTMetro.svg\" data-file-height=\"380\" data-file-width=\"440\" decoding=\"async\" height=\"35\" src=\"//upload.wikimedia.org/wikipedia/commons/thumb/5/52/MDTMetro.svg/40px-MDTMetro.svg.png\" srcset=\"//upload.wikimedia.org/wikipedia/commons/thumb/5/52/MDTMetro.svg/60px-MDTMetro.svg.png 1.5x, //upload.wikimedia.org/wikipedia/commons/thumb/5/52/MDTMetro.svg/80px-MDTMetro.svg.png 2x\" width=\"40\"/></a></td></tr>, <tr class=\"mergedrow\"><th class=\"infobox-label\" scope=\"row\"><a class=\"mw-redirect\" href=\"/wiki/GDP\" title=\"GDP\">GDP</a> (City, 2019)</th><td class=\"infobox-data\">$151 billion<sup class=\"reference\" id=\"cite_ref-bea.gov_9-0\"><a href=\"#cite_note-bea.gov-9\">[8]</a></sup> (<a href=\"/wiki/List_of_US_counties_with_GDP_over_100_billion_USD\" title=\"List of US counties with GDP over 100 billion USD\">14th</a>)</td></tr>, <tr class=\"mergedrow\"><th class=\"infobox-label\" scope=\"row\"><a href=\"/wiki/Gross_metropolitan_product\" title=\"Gross metropolitan product\">GMP</a> (Metro, 2020)</th><td class=\"infobox-data\">$377.5 billion<sup class=\"reference\" id=\"cite_ref-10\"><a href=\"#cite_note-10\">[9]</a></sup><sup class=\"reference\" id=\"cite_ref-11\"><a href=\"#cite_note-11\">[10]</a></sup> (<a href=\"/wiki/List_of_U.S._metropolitan_areas_by_GDP\" title=\"List of U.S. metropolitan areas by GDP\">12th</a>)</td></tr>]\n"
     ]
    }
   ],
   "source": [
    "title = soup.findAll('tr', class_= 'mergedrow')\n",
    "print(title)"
   ]
  },
  {
   "cell_type": "code",
   "execution_count": 208,
   "id": "b4f8dd30-7204-4f3d-8fd2-549627ecc1ea",
   "metadata": {},
   "outputs": [],
   "source": [
    "a= []\n",
    "for element in title:\n",
    "    a.append(element.text)"
   ]
  },
  {
   "cell_type": "code",
   "execution_count": 209,
   "id": "99e8701b-9451-4a5a-b303-f47cafee8601",
   "metadata": {},
   "outputs": [
    {
     "data": {
      "text/plain": [
       "bs4.element.ResultSet"
      ]
     },
     "execution_count": 209,
     "metadata": {},
     "output_type": "execute_result"
    }
   ],
   "source": [
    "type(title)"
   ]
  },
  {
   "cell_type": "code",
   "execution_count": 210,
   "id": "968ed1d7-f392-4efb-bbc5-e13d3a16ead4",
   "metadata": {},
   "outputs": [],
   "source": [
    "b=[]\n",
    "for x in a: \n",
    "    if \"Total\" in x:\n",
    "        b.append(x)"
   ]
  },
  {
   "cell_type": "code",
   "execution_count": 211,
   "id": "d0282625-02fa-4087-bced-78f70c9afe56",
   "metadata": {},
   "outputs": [],
   "source": [
    "c = b[-1]"
   ]
  },
  {
   "cell_type": "code",
   "execution_count": 212,
   "id": "ae2b0390-b2cb-42f6-b5fe-e896137bf4ff",
   "metadata": {},
   "outputs": [],
   "source": [
    "d=c.strip('\\xa0•\\xa0Total')"
   ]
  },
  {
   "cell_type": "code",
   "execution_count": 214,
   "id": "52a33592-cf08-44fa-864b-c24a702bfc38",
   "metadata": {},
   "outputs": [
    {
     "data": {
      "text/plain": [
       "'442,241'"
      ]
     },
     "execution_count": 214,
     "metadata": {},
     "output_type": "execute_result"
    }
   ],
   "source": [
    "e=d.replace(' ', '')[:-3]\n",
    "e"
   ]
  },
  {
   "cell_type": "code",
   "execution_count": null,
   "id": "6aec02b2-fb20-4ea6-9c9e-8ddb636f24b6",
   "metadata": {},
   "outputs": [],
   "source": []
  }
 ],
 "metadata": {
  "kernelspec": {
   "display_name": "Python 3 (ipykernel)",
   "language": "python",
   "name": "python3"
  },
  "language_info": {
   "codemirror_mode": {
    "name": "ipython",
    "version": 3
   },
   "file_extension": ".py",
   "mimetype": "text/x-python",
   "name": "python",
   "nbconvert_exporter": "python",
   "pygments_lexer": "ipython3",
   "version": "3.8.12"
  }
 },
 "nbformat": 4,
 "nbformat_minor": 5
}
