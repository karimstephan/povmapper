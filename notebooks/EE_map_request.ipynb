{
 "cells": [
  {
   "cell_type": "markdown",
   "metadata": {},
   "source": [
    "https://github.com/giswqs/geemap/discussions/777"
   ]
  },
  {
   "cell_type": "code",
   "execution_count": 5,
   "metadata": {
    "colab": {
     "base_uri": "https://localhost:8080/"
    },
    "collapsed": true,
    "id": "cfnKCuNZi9ub",
    "jupyter": {
     "outputs_hidden": true
    },
    "outputId": "4f2a453a-6869-407f-adda-476f9edd590b",
    "tags": []
   },
   "outputs": [
    {
     "name": "stdout",
     "output_type": "stream",
     "text": [
      "Requirement already satisfied: earthengine-api in /Users/alexwalbridge/.pyenv/versions/3.8.12/envs/earth_engine/lib/python3.8/site-packages (0.1.312)\n",
      "Requirement already satisfied: six in /Users/alexwalbridge/.pyenv/versions/3.8.12/envs/earth_engine/lib/python3.8/site-packages (from earthengine-api) (1.16.0)\n",
      "Requirement already satisfied: google-api-python-client<2,>=1.12.1 in /Users/alexwalbridge/.pyenv/versions/3.8.12/envs/earth_engine/lib/python3.8/site-packages (from earthengine-api) (1.12.11)\n",
      "Requirement already satisfied: future in /Users/alexwalbridge/.pyenv/versions/3.8.12/envs/earth_engine/lib/python3.8/site-packages (from earthengine-api) (0.18.2)\n",
      "Requirement already satisfied: google-cloud-storage in /Users/alexwalbridge/.pyenv/versions/3.8.12/envs/earth_engine/lib/python3.8/site-packages (from earthengine-api) (2.4.0)\n",
      "Requirement already satisfied: httplib2<1dev,>=0.9.2 in /Users/alexwalbridge/.pyenv/versions/3.8.12/envs/earth_engine/lib/python3.8/site-packages (from earthengine-api) (0.20.4)\n",
      "Requirement already satisfied: google-auth-httplib2>=0.0.3 in /Users/alexwalbridge/.pyenv/versions/3.8.12/envs/earth_engine/lib/python3.8/site-packages (from earthengine-api) (0.1.0)\n",
      "Requirement already satisfied: httplib2shim in /Users/alexwalbridge/.pyenv/versions/3.8.12/envs/earth_engine/lib/python3.8/site-packages (from earthengine-api) (0.0.3)\n",
      "Requirement already satisfied: google-auth>=1.4.1 in /Users/alexwalbridge/.pyenv/versions/3.8.12/envs/earth_engine/lib/python3.8/site-packages (from earthengine-api) (2.7.0)\n",
      "Requirement already satisfied: uritemplate<4dev,>=3.0.0 in /Users/alexwalbridge/.pyenv/versions/3.8.12/envs/earth_engine/lib/python3.8/site-packages (from google-api-python-client<2,>=1.12.1->earthengine-api) (3.0.1)\n",
      "Requirement already satisfied: google-api-core<3dev,>=1.21.0 in /Users/alexwalbridge/.pyenv/versions/3.8.12/envs/earth_engine/lib/python3.8/site-packages (from google-api-python-client<2,>=1.12.1->earthengine-api) (2.8.1)\n",
      "Requirement already satisfied: pyasn1-modules>=0.2.1 in /Users/alexwalbridge/.pyenv/versions/3.8.12/envs/earth_engine/lib/python3.8/site-packages (from google-auth>=1.4.1->earthengine-api) (0.2.8)\n",
      "Requirement already satisfied: rsa<5,>=3.1.4 in /Users/alexwalbridge/.pyenv/versions/3.8.12/envs/earth_engine/lib/python3.8/site-packages (from google-auth>=1.4.1->earthengine-api) (4.8)\n",
      "Requirement already satisfied: cachetools<6.0,>=2.0.0 in /Users/alexwalbridge/.pyenv/versions/3.8.12/envs/earth_engine/lib/python3.8/site-packages (from google-auth>=1.4.1->earthengine-api) (5.2.0)\n",
      "Requirement already satisfied: pyparsing!=3.0.0,!=3.0.1,!=3.0.2,!=3.0.3,<4,>=2.4.2 in /Users/alexwalbridge/.pyenv/versions/3.8.12/envs/earth_engine/lib/python3.8/site-packages (from httplib2<1dev,>=0.9.2->earthengine-api) (3.0.9)\n",
      "Requirement already satisfied: google-resumable-media>=2.3.2 in /Users/alexwalbridge/.pyenv/versions/3.8.12/envs/earth_engine/lib/python3.8/site-packages (from google-cloud-storage->earthengine-api) (2.3.3)\n",
      "Requirement already satisfied: google-cloud-core<3.0dev,>=2.3.0 in /Users/alexwalbridge/.pyenv/versions/3.8.12/envs/earth_engine/lib/python3.8/site-packages (from google-cloud-storage->earthengine-api) (2.3.1)\n",
      "Requirement already satisfied: requests<3.0.0dev,>=2.18.0 in /Users/alexwalbridge/.pyenv/versions/3.8.12/envs/earth_engine/lib/python3.8/site-packages (from google-cloud-storage->earthengine-api) (2.28.0)\n",
      "Requirement already satisfied: certifi in /Users/alexwalbridge/.pyenv/versions/3.8.12/envs/earth_engine/lib/python3.8/site-packages (from httplib2shim->earthengine-api) (2022.5.18.1)\n",
      "Requirement already satisfied: urllib3 in /Users/alexwalbridge/.pyenv/versions/3.8.12/envs/earth_engine/lib/python3.8/site-packages (from httplib2shim->earthengine-api) (1.26.9)\n",
      "Requirement already satisfied: protobuf<4.0.0dev,>=3.15.0 in /Users/alexwalbridge/.pyenv/versions/3.8.12/envs/earth_engine/lib/python3.8/site-packages (from google-api-core<3dev,>=1.21.0->google-api-python-client<2,>=1.12.1->earthengine-api) (3.20.1)\n",
      "Requirement already satisfied: googleapis-common-protos<2.0dev,>=1.56.2 in /Users/alexwalbridge/.pyenv/versions/3.8.12/envs/earth_engine/lib/python3.8/site-packages (from google-api-core<3dev,>=1.21.0->google-api-python-client<2,>=1.12.1->earthengine-api) (1.56.2)\n",
      "Requirement already satisfied: google-crc32c<2.0dev,>=1.0 in /Users/alexwalbridge/.pyenv/versions/3.8.12/envs/earth_engine/lib/python3.8/site-packages (from google-resumable-media>=2.3.2->google-cloud-storage->earthengine-api) (1.3.0)\n",
      "Requirement already satisfied: pyasn1<0.5.0,>=0.4.6 in /Users/alexwalbridge/.pyenv/versions/3.8.12/envs/earth_engine/lib/python3.8/site-packages (from pyasn1-modules>=0.2.1->google-auth>=1.4.1->earthengine-api) (0.4.8)\n",
      "Requirement already satisfied: idna<4,>=2.5 in /Users/alexwalbridge/.pyenv/versions/3.8.12/envs/earth_engine/lib/python3.8/site-packages (from requests<3.0.0dev,>=2.18.0->google-cloud-storage->earthengine-api) (3.3)\n",
      "Requirement already satisfied: charset-normalizer~=2.0.0 in /Users/alexwalbridge/.pyenv/versions/3.8.12/envs/earth_engine/lib/python3.8/site-packages (from requests<3.0.0dev,>=2.18.0->google-cloud-storage->earthengine-api) (2.0.12)\n",
      "Requirement already satisfied: numpy in /Users/alexwalbridge/.pyenv/versions/3.8.12/envs/earth_engine/lib/python3.8/site-packages (1.22.4)\n",
      "Requirement already satisfied: scikit-image in /Users/alexwalbridge/.pyenv/versions/3.8.12/envs/earth_engine/lib/python3.8/site-packages (0.19.3)\n",
      "Requirement already satisfied: imageio>=2.4.1 in /Users/alexwalbridge/.pyenv/versions/3.8.12/envs/earth_engine/lib/python3.8/site-packages (from scikit-image) (2.19.3)\n",
      "Requirement already satisfied: packaging>=20.0 in /Users/alexwalbridge/.pyenv/versions/3.8.12/envs/earth_engine/lib/python3.8/site-packages (from scikit-image) (21.3)\n",
      "Requirement already satisfied: scipy>=1.4.1 in /Users/alexwalbridge/.pyenv/versions/3.8.12/envs/earth_engine/lib/python3.8/site-packages (from scikit-image) (1.8.1)\n",
      "Requirement already satisfied: PyWavelets>=1.1.1 in /Users/alexwalbridge/.pyenv/versions/3.8.12/envs/earth_engine/lib/python3.8/site-packages (from scikit-image) (1.3.0)\n",
      "Requirement already satisfied: pillow!=7.1.0,!=7.1.1,!=8.3.0,>=6.1.0 in /Users/alexwalbridge/.pyenv/versions/3.8.12/envs/earth_engine/lib/python3.8/site-packages (from scikit-image) (9.1.1)\n",
      "Requirement already satisfied: networkx>=2.2 in /Users/alexwalbridge/.pyenv/versions/3.8.12/envs/earth_engine/lib/python3.8/site-packages (from scikit-image) (2.8.3)\n",
      "Requirement already satisfied: numpy>=1.17.0 in /Users/alexwalbridge/.pyenv/versions/3.8.12/envs/earth_engine/lib/python3.8/site-packages (from scikit-image) (1.22.4)\n",
      "Requirement already satisfied: tifffile>=2019.7.26 in /Users/alexwalbridge/.pyenv/versions/3.8.12/envs/earth_engine/lib/python3.8/site-packages (from scikit-image) (2022.5.4)\n",
      "Requirement already satisfied: pyparsing!=3.0.5,>=2.0.2 in /Users/alexwalbridge/.pyenv/versions/3.8.12/envs/earth_engine/lib/python3.8/site-packages (from packaging>=20.0->scikit-image) (3.0.9)\n",
      "Requirement already satisfied: haversine in /Users/alexwalbridge/.pyenv/versions/3.8.12/envs/earth_engine/lib/python3.8/site-packages (2.5.1)\n"
     ]
    }
   ],
   "source": [
    "!pip install earthengine-api\n",
    "!pip install numpy\n",
    "!pip install scikit-image\n",
    "!pip install haversine"
   ]
  },
  {
   "cell_type": "code",
   "execution_count": 1,
   "metadata": {
    "colab": {
     "base_uri": "https://localhost:8080/"
    },
    "id": "Cr197oaiiaOQ",
    "outputId": "d2811b14-db1e-4720-c442-f9b604469da8"
   },
   "outputs": [],
   "source": [
    "import ee\n",
    "import numpy as np\n",
    "from skimage.transform import resize\n",
    "from haversine import inverse_haversine, Direction"
   ]
  },
  {
   "cell_type": "code",
   "execution_count": 2,
   "metadata": {
    "colab": {
     "base_uri": "https://localhost:8080/"
    },
    "id": "Cr197oaiiaOQ",
    "outputId": "d2811b14-db1e-4720-c442-f9b604469da8"
   },
   "outputs": [],
   "source": [
    "service_account = 'google-earth-engine@batch-883-povertymapper-352703.iam.gserviceaccount.com'\n",
    "credentials = ee.ServiceAccountCredentials(service_account, 'batch-883-povertymapper-352703-40ccc3273797.json')\n",
    " \n",
    "# Initialize the library.\n",
    "ee.Initialize(credentials)"
   ]
  },
  {
   "cell_type": "code",
   "execution_count": 7,
   "metadata": {
    "colab": {
     "base_uri": "https://localhost:8080/"
    },
    "id": "cYcbwNmZjETi",
    "outputId": "0270c86c-a2e5-4217-c3c4-545170762c0e"
   },
   "outputs": [],
   "source": [
    "# import matplotlib.pyplot as plt\n",
    "# import numpy as np\n",
    "# from scipy.stats import norm, gamma, f, chi2\n",
    "# import IPython.display as disp\n",
    "# %matplotlib inline\n",
    "# from haversine import inverse_haversine, Direction\n",
    "# from skimage.transform import resize\n",
    "# import os"
   ]
  },
  {
   "cell_type": "code",
   "execution_count": 3,
   "metadata": {
    "id": "wQv_WXxQnJqY"
   },
   "outputs": [],
   "source": [
    "def get_save_image(lat, lon, grid_size=4, s_date='2021-01-01', e_date= '2021-07-01', img_name='img_1', img_cat='img_cat'):\n",
    "    \n",
    "    lat = float(lat)\n",
    "    lon = float(lon)\n",
    "    grid_size = float(grid_size)\n",
    "\n",
    "    start = ee.Date(s_date)\n",
    "    finish = ee.Date(e_date)\n",
    "\n",
    "    radius=(float(grid_size) * 2**0.5 )/2\n",
    "\n",
    "    coord_ne = inverse_haversine((lat,lon), radius, Direction.NORTHEAST)\n",
    "    coord_sw = inverse_haversine((lat,lon), radius, Direction.SOUTHWEST)\n",
    "\n",
    "    pngRect = ee.Geometry.Rectangle([\n",
    "                                    [coord_sw[1], coord_sw[0]],\n",
    "                                    [coord_ne[1], coord_ne[0]]\n",
    "                                    ])\n",
    "\n",
    "    print('Starting RGB Image Capture') \n",
    "\n",
    "    # Import the Sentinel 2 ImageCollection\n",
    "    daytime = (ee.ImageCollection('COPERNICUS/S2_SR')\n",
    "            .filterBounds(pngRect)\n",
    "            .filterDate(start, finish)\n",
    "            .select(['TCI_R', 'TCI_G', 'TCI_B'])\n",
    "            .sort('CLOUDY_PIXEL_PERCENTAGE', False)\n",
    "            )\n",
    "\n",
    "    daytime_img = daytime.mosaic().setDefaultProjection(daytime.first().projection())\n",
    "\n",
    "    daytime_img_sample = daytime_img.sampleRectangle(pngRect)\n",
    "\n",
    "    # Get individual band arrays.\n",
    "    band_arr_TCI_R = daytime_img_sample.get('TCI_R')\n",
    "    band_arr_TCI_G = daytime_img_sample.get('TCI_G')\n",
    "    band_arr_TCI_B = daytime_img_sample.get('TCI_B')\n",
    "\n",
    "    # Transfer the arrays from server to client and cast as np array.\n",
    "    np_arr_TCI_R = np.array(band_arr_TCI_R.getInfo())\n",
    "    np_arr_TCI_G = np.array(band_arr_TCI_G.getInfo())\n",
    "    np_arr_TCI_B = np.array(band_arr_TCI_B.getInfo())\n",
    "\n",
    "    # Expand the dimensions of the images so they can be concatenated into 3-D.\n",
    "    np_arr_TCI_R = np.expand_dims(np_arr_TCI_R, 2)\n",
    "    np_arr_TCI_G = np.expand_dims(np_arr_TCI_G, 2)\n",
    "    np_arr_TCI_B = np.expand_dims(np_arr_TCI_B, 2)\n",
    "\n",
    "    # Stack the individual bands to make a 3-D array.\n",
    "    rgb_img = np.concatenate((np_arr_TCI_R, np_arr_TCI_G, np_arr_TCI_B), 2)\n",
    "    \n",
    "    # Resize the image to 256x256. REMEMBER TO CHANGE THE INT64 FORMAT TO FLOAT IN\n",
    "    # ORDER TO RESIZE!!!!!\n",
    "    rgb_img_256 = resize(rgb_img.astype(float),(256,256)).astype(np.uint8)\n",
    "\n",
    "    # plt.imshow(rgb_img_256)\n",
    "    # plt.show()    \n",
    "    \n",
    "    print('Starting Radiance Image Capture')\n",
    "\n",
    "    nighttime = (ee.ImageCollection('NOAA/VIIRS/DNB/MONTHLY_V1/VCMCFG')\n",
    "                    .filterDate(start, finish)\n",
    "                    .filterBounds(pngRect)\n",
    "                    .select('avg_rad')\n",
    "                    )\n",
    "\n",
    "    nighttime_img = nighttime.mosaic().setDefaultProjection(nighttime.first().projection())\n",
    "\n",
    "    nighttime_img_sample = nighttime_img.sampleRectangle(pngRect)\n",
    "\n",
    "    # Get individual band arrays.\n",
    "    band_arr_avg_rad = nighttime_img_sample.get('avg_rad')\n",
    "\n",
    "    # Transfer the arrays from server to client and cast as np array.\n",
    "    np_arr_avg_rad = np.array(band_arr_avg_rad.getInfo())\n",
    "\n",
    "    # Resize the array to 256x256\n",
    "    rad_img_256 = resize(np_arr_avg_rad,(256,256)).astype(np.uint8)\n",
    "\n",
    "    # Expand the dimensions of the images so they can be concatenated into 3-D.\n",
    "    rad_img_256 = np.expand_dims(rad_img_256, 2)\n",
    "    \n",
    "    # plt.imshow(rad_img_256, cmap='gray')\n",
    "    # plt.show()        \n",
    "\n",
    "    # Stack the rgb and rad bands to make a feature array.\n",
    "\n",
    "    feat_img = np.concatenate((rgb_img_256, rad_img_256), 2)\n",
    "    print(f'feat_img Dimensions: {str(feat_img.shape)}')\n",
    "    print(f'feat_img Type: {str(type(feat_img))}')\n",
    "\n",
    "    # file_path = '/content/drive/MyDrive/'+str(img_cat)\n",
    "    # np.save(file_path+'/'+str(img_name)+'.npy', feat_img)\n",
    "    # print(str(img_name)+'.npy Saved!')\n"
   ]
  },
  {
   "cell_type": "code",
   "execution_count": 4,
   "metadata": {
    "colab": {
     "base_uri": "https://localhost:8080/",
     "height": 650
    },
    "id": "zElWt46grRiw",
    "outputId": "30b23696-f104-40f6-db4b-fb4b0e4757b8"
   },
   "outputs": [
    {
     "name": "stdout",
     "output_type": "stream",
     "text": [
      "Starting RGB Image Capture\n",
      "Starting Radiance Image Capture\n",
      "feat_img Dimensions: (256, 256, 4)\n",
      "feat_img Type: <class 'numpy.ndarray'>\n"
     ]
    }
   ],
   "source": [
    "lon = 72.8366\n",
    "lat = 19.07025\n",
    "\n",
    "\n",
    "\n",
    "get_save_image(lat, lon)"
   ]
  },
  {
   "cell_type": "code",
   "execution_count": null,
   "metadata": {},
   "outputs": [],
   "source": []
  }
 ],
 "metadata": {
  "colab": {
   "collapsed_sections": [],
   "name": "RGBRad_dataset_compiler - Current.ipynb",
   "provenance": []
  },
  "kernelspec": {
   "display_name": "Python 3 (ipykernel)",
   "language": "python",
   "name": "python3"
  },
  "language_info": {
   "codemirror_mode": {
    "name": "ipython",
    "version": 3
   },
   "file_extension": ".py",
   "mimetype": "text/x-python",
   "name": "python",
   "nbconvert_exporter": "python",
   "pygments_lexer": "ipython3",
   "version": "3.8.12"
  }
 },
 "nbformat": 4,
 "nbformat_minor": 4
}
