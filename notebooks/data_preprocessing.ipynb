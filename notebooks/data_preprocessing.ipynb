{
 "cells": [
  {
   "cell_type": "markdown",
   "id": "764f3c15-0aa7-4175-be7f-6efe823cc8b7",
   "metadata": {
    "tags": []
   },
   "source": [
    "## import data"
   ]
  },
  {
   "cell_type": "code",
   "execution_count": 3,
   "id": "579c47df-fce6-4a9b-8b1f-218400fdb073",
   "metadata": {},
   "outputs": [],
   "source": [
    "import pandas as pd\n",
    "data = pd.io.stata.read_stata('../rawdata/dhs_survey_india/india_raw.dta', convert_categoricals=False)\n"
   ]
  },
  {
   "cell_type": "code",
   "execution_count": 4,
   "id": "714dc737-1d84-4abf-9945-0fb5bd572ff4",
   "metadata": {},
   "outputs": [
    {
     "data": {
      "text/plain": [
       "(636699, 143)"
      ]
     },
     "execution_count": 4,
     "metadata": {},
     "output_type": "execute_result"
    }
   ],
   "source": [
    "#verifying no data was lost when importing\n",
    "data.shape"
   ]
  },
  {
   "cell_type": "code",
   "execution_count": 5,
   "id": "0dff2884-3446-4357-832d-ad998731ff5d",
   "metadata": {},
   "outputs": [],
   "source": [
    "assert data.shape == (636699, 143) "
   ]
  },
  {
   "cell_type": "markdown",
   "id": "d6afbc84-6eec-4f85-ab19-010c997268c9",
   "metadata": {
    "tags": []
   },
   "source": [
    "## display data"
   ]
  },
  {
   "cell_type": "code",
   "execution_count": 6,
   "id": "4b3d7962-390b-4e62-96f8-78683fb1b552",
   "metadata": {},
   "outputs": [
    {
     "data": {
      "text/html": [
       "<div>\n",
       "<style scoped>\n",
       "    .dataframe tbody tr th:only-of-type {\n",
       "        vertical-align: middle;\n",
       "    }\n",
       "\n",
       "    .dataframe tbody tr th {\n",
       "        vertical-align: top;\n",
       "    }\n",
       "\n",
       "    .dataframe thead th {\n",
       "        text-align: right;\n",
       "    }\n",
       "</style>\n",
       "<table border=\"1\" class=\"dataframe\">\n",
       "  <thead>\n",
       "    <tr style=\"text-align: right;\">\n",
       "      <th></th>\n",
       "      <th>hhid</th>\n",
       "      <th>hv000</th>\n",
       "      <th>hv001</th>\n",
       "      <th>hv002</th>\n",
       "      <th>hv003</th>\n",
       "      <th>hv004</th>\n",
       "      <th>hv005</th>\n",
       "      <th>hv006</th>\n",
       "      <th>hv007</th>\n",
       "      <th>hv008</th>\n",
       "      <th>...</th>\n",
       "      <th>sh72x</th>\n",
       "      <th>sh75</th>\n",
       "      <th>shnfhs2</th>\n",
       "      <th>shstruc</th>\n",
       "      <th>sv270s</th>\n",
       "      <th>sv271s</th>\n",
       "      <th>sv270us</th>\n",
       "      <th>sv271us</th>\n",
       "      <th>sv270rs</th>\n",
       "      <th>sv271rs</th>\n",
       "    </tr>\n",
       "  </thead>\n",
       "  <tbody>\n",
       "    <tr>\n",
       "      <th>0</th>\n",
       "      <td>0100101305</td>\n",
       "      <td>IA7</td>\n",
       "      <td>113</td>\n",
       "      <td>5</td>\n",
       "      <td>1</td>\n",
       "      <td>113</td>\n",
       "      <td>196202</td>\n",
       "      <td>9</td>\n",
       "      <td>2019</td>\n",
       "      <td>1437</td>\n",
       "      <td>...</td>\n",
       "      <td>0</td>\n",
       "      <td>1</td>\n",
       "      <td>3.0</td>\n",
       "      <td>1</td>\n",
       "      <td>2</td>\n",
       "      <td>-80750</td>\n",
       "      <td>NaN</td>\n",
       "      <td>NaN</td>\n",
       "      <td>2.0</td>\n",
       "      <td>212400.0</td>\n",
       "    </tr>\n",
       "    <tr>\n",
       "      <th>1</th>\n",
       "      <td>0100101345</td>\n",
       "      <td>IA7</td>\n",
       "      <td>113</td>\n",
       "      <td>45</td>\n",
       "      <td>1</td>\n",
       "      <td>113</td>\n",
       "      <td>196202</td>\n",
       "      <td>9</td>\n",
       "      <td>2019</td>\n",
       "      <td>1437</td>\n",
       "      <td>...</td>\n",
       "      <td>0</td>\n",
       "      <td>1</td>\n",
       "      <td>3.0</td>\n",
       "      <td>1</td>\n",
       "      <td>2</td>\n",
       "      <td>110480</td>\n",
       "      <td>NaN</td>\n",
       "      <td>NaN</td>\n",
       "      <td>3.0</td>\n",
       "      <td>422510.0</td>\n",
       "    </tr>\n",
       "    <tr>\n",
       "      <th>2</th>\n",
       "      <td>0100101383</td>\n",
       "      <td>IA7</td>\n",
       "      <td>113</td>\n",
       "      <td>83</td>\n",
       "      <td>1</td>\n",
       "      <td>113</td>\n",
       "      <td>196202</td>\n",
       "      <td>9</td>\n",
       "      <td>2019</td>\n",
       "      <td>1437</td>\n",
       "      <td>...</td>\n",
       "      <td>0</td>\n",
       "      <td>1</td>\n",
       "      <td>3.0</td>\n",
       "      <td>1</td>\n",
       "      <td>2</td>\n",
       "      <td>131040</td>\n",
       "      <td>NaN</td>\n",
       "      <td>NaN</td>\n",
       "      <td>3.0</td>\n",
       "      <td>445090.0</td>\n",
       "    </tr>\n",
       "    <tr>\n",
       "      <th>3</th>\n",
       "      <td>0100101334</td>\n",
       "      <td>IA7</td>\n",
       "      <td>113</td>\n",
       "      <td>34</td>\n",
       "      <td>1</td>\n",
       "      <td>113</td>\n",
       "      <td>196202</td>\n",
       "      <td>9</td>\n",
       "      <td>2019</td>\n",
       "      <td>1437</td>\n",
       "      <td>...</td>\n",
       "      <td>0</td>\n",
       "      <td>1</td>\n",
       "      <td>2.0</td>\n",
       "      <td>1</td>\n",
       "      <td>1</td>\n",
       "      <td>-879110</td>\n",
       "      <td>NaN</td>\n",
       "      <td>NaN</td>\n",
       "      <td>1.0</td>\n",
       "      <td>-664740.0</td>\n",
       "    </tr>\n",
       "    <tr>\n",
       "      <th>4</th>\n",
       "      <td>0100101356</td>\n",
       "      <td>IA7</td>\n",
       "      <td>113</td>\n",
       "      <td>56</td>\n",
       "      <td>1</td>\n",
       "      <td>113</td>\n",
       "      <td>196202</td>\n",
       "      <td>9</td>\n",
       "      <td>2019</td>\n",
       "      <td>1437</td>\n",
       "      <td>...</td>\n",
       "      <td>0</td>\n",
       "      <td>1</td>\n",
       "      <td>3.0</td>\n",
       "      <td>2</td>\n",
       "      <td>3</td>\n",
       "      <td>333370</td>\n",
       "      <td>NaN</td>\n",
       "      <td>NaN</td>\n",
       "      <td>3.0</td>\n",
       "      <td>667379.0</td>\n",
       "    </tr>\n",
       "  </tbody>\n",
       "</table>\n",
       "<p>5 rows × 143 columns</p>\n",
       "</div>"
      ],
      "text/plain": [
       "           hhid hv000  hv001  hv002  hv003  hv004   hv005  hv006  hv007  \\\n",
       "0    0100101305   IA7    113      5      1    113  196202      9   2019   \n",
       "1    0100101345   IA7    113     45      1    113  196202      9   2019   \n",
       "2    0100101383   IA7    113     83      1    113  196202      9   2019   \n",
       "3    0100101334   IA7    113     34      1    113  196202      9   2019   \n",
       "4    0100101356   IA7    113     56      1    113  196202      9   2019   \n",
       "\n",
       "   hv008  ...  sh72x  sh75  shnfhs2  shstruc  sv270s  sv271s  sv270us  \\\n",
       "0   1437  ...      0     1      3.0        1       2  -80750      NaN   \n",
       "1   1437  ...      0     1      3.0        1       2  110480      NaN   \n",
       "2   1437  ...      0     1      3.0        1       2  131040      NaN   \n",
       "3   1437  ...      0     1      2.0        1       1 -879110      NaN   \n",
       "4   1437  ...      0     1      3.0        2       3  333370      NaN   \n",
       "\n",
       "   sv271us  sv270rs   sv271rs  \n",
       "0      NaN      2.0  212400.0  \n",
       "1      NaN      3.0  422510.0  \n",
       "2      NaN      3.0  445090.0  \n",
       "3      NaN      1.0 -664740.0  \n",
       "4      NaN      3.0  667379.0  \n",
       "\n",
       "[5 rows x 143 columns]"
      ]
     },
     "execution_count": 6,
     "metadata": {},
     "output_type": "execute_result"
    }
   ],
   "source": [
    "data.head()"
   ]
  },
  {
   "cell_type": "code",
   "execution_count": 7,
   "id": "6cf6af97-e043-4f52-ae05-6fcc829d403d",
   "metadata": {
    "scrolled": true,
    "tags": []
   },
   "outputs": [
    {
     "data": {
      "text/plain": [
       "{'hhid': 'case identification',\n",
       " 'hv000': 'country code and phase',\n",
       " 'hv001': 'cluster number',\n",
       " 'hv002': 'household number',\n",
       " 'hv003': \"respondent's line number (answering household questionnaire)\",\n",
       " 'hv004': 'ultimate area unit',\n",
       " 'hv005': 'household sample weight (6 decimals)',\n",
       " 'hv006': 'month of interview',\n",
       " 'hv007': 'year of interview',\n",
       " 'hv008': 'date of interview (cmc)',\n",
       " 'hv008a': 'date of interview century day code (cdc)',\n",
       " 'hv009': 'number of household members',\n",
       " 'hv012': 'number of de jure members',\n",
       " 'hv013': 'number of de facto members',\n",
       " 'hv014': 'number of children 5 and under (de jure)',\n",
       " 'hv015': 'result of household interview',\n",
       " 'hv016': 'day of interview',\n",
       " 'hv017': 'number of visits',\n",
       " 'hv018': 'interviewer identification',\n",
       " 'hv021': 'primary sampling unit',\n",
       " 'hv022': 'sample strata for sampling errors',\n",
       " 'hv023': 'stratification used in sample design',\n",
       " 'hv024': 'state',\n",
       " 'hv025': 'type of place of residence',\n",
       " 'hv027': 'household selected for male interview',\n",
       " 'hv028': 'household weight for male subsample (6 decimals)',\n",
       " 'hv030': 'field supervisor',\n",
       " 'hv040': 'cluster altitude in meters',\n",
       " 'hv041': 'total adults measured',\n",
       " 'hv042': 'household selected for hemoglobin',\n",
       " 'hv044': 'household selected for domestic violence module',\n",
       " 'hv045a': 'language of questionnaire',\n",
       " 'hv045b': 'language of interview',\n",
       " 'hv045c': 'native language of respondent',\n",
       " 'hv046': 'translator used',\n",
       " 'hv801': 'time interview started (hhmm - 24 hour clock)',\n",
       " 'hv802': 'time interview ended (hhmm - 24 hour clock)',\n",
       " 'hv201': 'source of drinking water',\n",
       " 'hv204': 'time to get to water source (minutes)',\n",
       " 'hv205': 'type of toilet facility',\n",
       " 'hv206': 'has electricity',\n",
       " 'hv207': 'has radio',\n",
       " 'hv208': 'has television',\n",
       " 'hv209': 'has refrigerator',\n",
       " 'hv210': 'has bicycle',\n",
       " 'hv211': 'has motorcycle/scooter',\n",
       " 'hv212': 'has car/truck',\n",
       " 'hv213': 'main floor material',\n",
       " 'hv214': 'main wall material',\n",
       " 'hv215': 'main roof material',\n",
       " 'hv216': 'number of rooms used for sleeping',\n",
       " 'hv218': 'line number of head of household',\n",
       " 'hv220': 'age of head of household',\n",
       " 'hv221': 'has telephone (land-line)',\n",
       " 'hv225': 'share toilet with other households',\n",
       " 'hv226': 'type of cooking fuel',\n",
       " 'hv227': 'has mosquito bed net for sleeping',\n",
       " 'hv230b': 'presence of water at hand washing place',\n",
       " 'hv232': 'items present: soap or detergent',\n",
       " 'hv232b': 'items present: ash, mud, sand',\n",
       " 'hv232y': 'items present: none',\n",
       " 'hv234a': 'result of salt test for iodine',\n",
       " 'hv235': 'location of source for water',\n",
       " 'hv236': 'person fetching water',\n",
       " 'hv237': 'anything done to water to make safe to drink',\n",
       " 'hv238': 'number of households sharing toilet',\n",
       " 'hv238a': 'location of toilet facility',\n",
       " 'hv241': 'food cooked in the house/ separate building/ outdoors',\n",
       " 'hv242': 'household has separate room used as kitchen',\n",
       " 'hv243a': 'has mobile telephone',\n",
       " 'hv243b': 'has watch',\n",
       " 'hv243c': 'has animal-drawn cart',\n",
       " 'hv243d': 'na - has boat with a motor',\n",
       " 'hv243e': 'has a computer',\n",
       " 'hv244': 'owns land usable for agriculture',\n",
       " 'hv245': 'hectares of agricultural land (1 decimal)',\n",
       " 'hv246': 'owns livestock, herds or farm animals',\n",
       " 'hv247': 'has bank account',\n",
       " 'hv270': 'wealth index combined',\n",
       " 'hv271': 'wealth index factor score combined (5 decimals)',\n",
       " 'hv270a': 'wealth index for urban/rural',\n",
       " 'hv271a': 'wealth index factor score for urban/rural (5 decimals)',\n",
       " 'hml1': 'number of mosquito bed nets',\n",
       " 'hml1a': 'number of mosquito bed nets with specific information',\n",
       " 'hml2': 'number of children under mosquito bed net previous night',\n",
       " 'chl0': 'na - number of de-jure children 5-14 for child labor module',\n",
       " 'shdist': 'district number',\n",
       " 'sh37b': 'in the past two weeks, was the water from this source not available for at least',\n",
       " 'sh44': 'do member of your household have access to a toilet facility?',\n",
       " 'sh45': 'what kind of toilet facility do members of your household have access to?',\n",
       " 'sh46': 'what type of drainage facility does this household have?',\n",
       " 'sh48': 'what is the caste or tribe of the head of the household?',\n",
       " 'sh50b': 'mattress',\n",
       " 'sh50c': 'pressure cooker',\n",
       " 'sh50d': 'chair',\n",
       " 'sh50e': 'cot or bed',\n",
       " 'sh50f': 'table',\n",
       " 'sh50g': 'electric fan',\n",
       " 'sh50i': 'black and white television',\n",
       " 'sh50j': 'colour television',\n",
       " 'sh50k': 'sewing machine',\n",
       " 'sh50n': 'internet',\n",
       " 'sh50q': 'air conditioner/cooler',\n",
       " 'sh50r': 'washing machine',\n",
       " 'sh50x': 'water pump',\n",
       " 'sh50y': 'thresher',\n",
       " 'sh50z': 'tractor',\n",
       " 'sh52': 'in this household, is food cooked on a stove, a chullah or an open fire?',\n",
       " 'sh55': 'does the room used as kitchen have any ventalation?',\n",
       " 'sh56a': 'dispose the kitchen waste - let out into drain/sewer',\n",
       " 'sh56b': 'dispose the kitchen waste - open drain',\n",
       " 'sh56c': 'dispose the kitchen waste - closed drain',\n",
       " 'sh56d': 'dispose the kitchen waste - reuse for garden or farming',\n",
       " 'sh56e': 'dispose the kitchen waste - reuse for other domestic purposes',\n",
       " 'sh56f': 'dispose the kitchen waste - manual collection',\n",
       " 'sh56x': 'dispose the kitchen waste - other',\n",
       " 'sh61': 'does this household own this house or any other house?',\n",
       " 'sh62': 'who owns the house?',\n",
       " 'sh64': 'who owns this agricultural land?',\n",
       " 'sh66': 'out of this land, how much is irrigated?',\n",
       " 'sh67a': 'cows / bulls / buffaloes / yaks',\n",
       " 'sh67b': 'camels',\n",
       " 'sh67c': 'horses / donkeys / mules',\n",
       " 'sh67d': 'goats or sheep',\n",
       " 'sh67e': 'pigs',\n",
       " 'sh67f': 'chickens / ducks',\n",
       " 'sh69': 'does this household share any sleeping room with this(these) animal(s)?',\n",
       " 'sh72a': 'health insurance or scheme: employees state insurance scheme',\n",
       " 'sh72c': 'health insurance or scheme: state health insurance scheme',\n",
       " 'sh72d': 'health insurance or scheme: rashtriya swasthya bima yojana',\n",
       " 'sh72e': 'health insurance or scheme: community health insurance programme',\n",
       " 'sh72f': 'health insurance or scheme: other health insurance through employer',\n",
       " 'sh72h': 'health insurance or scheme: other privately purchased commercial health insuranc',\n",
       " 'sh72x': 'health insurance or scheme: other',\n",
       " 'sh75': 'does this household have a bpl card?',\n",
       " 'shnfhs2': 'house type (as defined in nfhs-2 and 3)',\n",
       " 'shstruc': 'household structure',\n",
       " 'sv270s': 'wealth index within state',\n",
       " 'sv271s': 'wealth index factor score within state (5 decimals)',\n",
       " 'sv270us': 'wealth index - urban within state',\n",
       " 'sv271us': 'wealth index factor score (5 decimals) - urban',\n",
       " 'sv270rs': 'wealth index - rural within state',\n",
       " 'sv271rs': 'wealth index factor score (5 decimals) - rural'}"
      ]
     },
     "execution_count": 7,
     "metadata": {},
     "output_type": "execute_result"
    }
   ],
   "source": [
    "#column names\n",
    "itr = pd.read_stata('../rawdata/dhs_survey_india/india_raw.dta', iterator=True)\n",
    "itr.variable_labels()"
   ]
  },
  {
   "cell_type": "code",
   "execution_count": 8,
   "id": "2ce0d686-6ca1-45d8-baf6-4eca479b935d",
   "metadata": {},
   "outputs": [
    {
     "data": {
      "text/html": [
       "<div>\n",
       "<style scoped>\n",
       "    .dataframe tbody tr th:only-of-type {\n",
       "        vertical-align: middle;\n",
       "    }\n",
       "\n",
       "    .dataframe tbody tr th {\n",
       "        vertical-align: top;\n",
       "    }\n",
       "\n",
       "    .dataframe thead th {\n",
       "        text-align: right;\n",
       "    }\n",
       "</style>\n",
       "<table border=\"1\" class=\"dataframe\">\n",
       "  <thead>\n",
       "    <tr style=\"text-align: right;\">\n",
       "      <th></th>\n",
       "      <th>hv001</th>\n",
       "      <th>hv270</th>\n",
       "      <th>hv271</th>\n",
       "      <th>hv009</th>\n",
       "    </tr>\n",
       "  </thead>\n",
       "  <tbody>\n",
       "    <tr>\n",
       "      <th>0</th>\n",
       "      <td>113</td>\n",
       "      <td>3</td>\n",
       "      <td>-80750</td>\n",
       "      <td>5</td>\n",
       "    </tr>\n",
       "    <tr>\n",
       "      <th>1</th>\n",
       "      <td>113</td>\n",
       "      <td>3</td>\n",
       "      <td>110480</td>\n",
       "      <td>4</td>\n",
       "    </tr>\n",
       "    <tr>\n",
       "      <th>2</th>\n",
       "      <td>113</td>\n",
       "      <td>3</td>\n",
       "      <td>131040</td>\n",
       "      <td>5</td>\n",
       "    </tr>\n",
       "    <tr>\n",
       "      <th>3</th>\n",
       "      <td>113</td>\n",
       "      <td>1</td>\n",
       "      <td>-879110</td>\n",
       "      <td>5</td>\n",
       "    </tr>\n",
       "    <tr>\n",
       "      <th>4</th>\n",
       "      <td>113</td>\n",
       "      <td>3</td>\n",
       "      <td>333370</td>\n",
       "      <td>6</td>\n",
       "    </tr>\n",
       "  </tbody>\n",
       "</table>\n",
       "</div>"
      ],
      "text/plain": [
       "   hv001  hv270   hv271  hv009\n",
       "0    113      3  -80750      5\n",
       "1    113      3  110480      4\n",
       "2    113      3  131040      5\n",
       "3    113      1 -879110      5\n",
       "4    113      3  333370      6"
      ]
     },
     "execution_count": 8,
     "metadata": {},
     "output_type": "execute_result"
    }
   ],
   "source": [
    "#identifying key columns we need\n",
    "data_filtered = data.loc[0:636699,['hv001','hv270','hv271', 'hv009']]\n",
    "data_filtered.head()"
   ]
  },
  {
   "cell_type": "code",
   "execution_count": 9,
   "id": "ec3bb5a8-b55c-4615-9ccb-f9a678390241",
   "metadata": {},
   "outputs": [],
   "source": [
    "#ensuring we have all the required data\n",
    "assert data_filtered.shape == (636699, 4) "
   ]
  },
  {
   "cell_type": "code",
   "execution_count": 10,
   "id": "0bb1ee53-a784-4502-8e9a-9c973b3a3724",
   "metadata": {},
   "outputs": [],
   "source": [
    "#renaming columns\n",
    "data_filtered.rename(columns = {'hv001':'cluster_number', 'hv009':'number_household_members','hv270': 'wealth_index_combined', 'hv271': 'wealth_index_factor_score_combined' }, inplace = True)"
   ]
  },
  {
   "cell_type": "markdown",
   "id": "3d09cf65-4312-43ae-a1a2-87a014ebb903",
   "metadata": {
    "tags": []
   },
   "source": [
    "## create new poverty column"
   ]
  },
  {
   "cell_type": "code",
   "execution_count": 11,
   "id": "b62b11f5-ca03-4b91-bd77-4b4fc0d47d59",
   "metadata": {},
   "outputs": [],
   "source": [
    "#creating new column 'is_poor' where if wealth_index_comined <=2, considered poor\n",
    "import numpy as np\n",
    "data_filtered['is_poor'] = np.where(data['hv270']<=2, 1, 0)"
   ]
  },
  {
   "cell_type": "markdown",
   "id": "a5d60202-e4a1-4446-afca-12e111536735",
   "metadata": {
    "tags": []
   },
   "source": [
    "## percentage of person affected by poverty per cluster"
   ]
  },
  {
   "cell_type": "code",
   "execution_count": 12,
   "id": "b7b3ff5a-80b8-4540-98ff-d07ae8972b31",
   "metadata": {},
   "outputs": [],
   "source": [
    "#identifying how many persons per cluster are affected by poverty\n",
    "data_filtered['poor_number_household_members']= data_filtered['is_poor'] * data_filtered['number_household_members']"
   ]
  },
  {
   "cell_type": "code",
   "execution_count": 13,
   "id": "9c1f8249-4adc-4972-b565-70e6c720508f",
   "metadata": {},
   "outputs": [],
   "source": [
    "#grouping poor_number_household_members to clust\n",
    "percentage_pov_head = data_filtered.groupby('cluster_number')['poor_number_household_members'].sum()"
   ]
  },
  {
   "cell_type": "code",
   "execution_count": 14,
   "id": "7949565c-fef2-4fad-9f11-ac738fc184c5",
   "metadata": {
    "scrolled": true,
    "tags": []
   },
   "outputs": [],
   "source": [
    "#creating headcount per cluster\n",
    "head_count_cluster = data_filtered.groupby('cluster_number')['number_household_members'].sum()"
   ]
  },
  {
   "cell_type": "code",
   "execution_count": 15,
   "id": "376a5f51-2ece-41b4-8b0b-ef75b860e918",
   "metadata": {},
   "outputs": [],
   "source": [
    "data_filtered['percentage_pov_head'] = data_filtered.cluster_number.map(dict(percentage_pov_head/head_count_cluster))"
   ]
  },
  {
   "cell_type": "markdown",
   "id": "95e7dd8b-13ef-4bd7-95f2-66221025e534",
   "metadata": {
    "tags": []
   },
   "source": [
    "## percentage of poverty in clusters according to households"
   ]
  },
  {
   "cell_type": "code",
   "execution_count": 16,
   "id": "d39e8b30-ebd9-47ba-bfcc-e8bce6c5ed6a",
   "metadata": {},
   "outputs": [],
   "source": [
    "percentage_pov_household = data_filtered.groupby('cluster_number')['is_poor'].sum()"
   ]
  },
  {
   "cell_type": "code",
   "execution_count": 17,
   "id": "b22420b4-4875-4f53-aa73-7bb6258d6e77",
   "metadata": {
    "scrolled": true,
    "tags": []
   },
   "outputs": [],
   "source": [
    "percentage_pov_household_count = data_filtered.groupby('cluster_number')['wealth_index_combined'].count()"
   ]
  },
  {
   "cell_type": "code",
   "execution_count": 18,
   "id": "59b691ce-f699-47b7-bad1-b27143c61040",
   "metadata": {},
   "outputs": [],
   "source": [
    "data_filtered['percentage_pov_household'] = data_filtered.cluster_number.map(dict(percentage_pov_household/percentage_pov_household_count))"
   ]
  },
  {
   "cell_type": "markdown",
   "id": "7543e8c9-d979-4fac-830d-910caaa8cb5c",
   "metadata": {
    "tags": []
   },
   "source": [
    "## Calculating average_cluster_wealth_score"
   ]
  },
  {
   "cell_type": "code",
   "execution_count": 19,
   "id": "d3279a1b-cf39-472b-b0a5-81600075e425",
   "metadata": {},
   "outputs": [],
   "source": [
    "average_cluster_wealth_score = data_filtered.groupby('cluster_number')['wealth_index_factor_score_combined'].mean()"
   ]
  },
  {
   "cell_type": "code",
   "execution_count": 20,
   "id": "60917f86-f0b1-44b4-9a32-8e885ff7a505",
   "metadata": {},
   "outputs": [],
   "source": [
    "data_filtered['average_cluster_wealth_score']= data_filtered.cluster_number.map(dict(average_cluster_wealth_score))"
   ]
  },
  {
   "cell_type": "markdown",
   "id": "302f42a3-7865-4af7-a860-ed87ab6bb9e8",
   "metadata": {},
   "source": [
    "## visualise data"
   ]
  },
  {
   "cell_type": "code",
   "execution_count": 21,
   "id": "7c7a7c57-cd31-4ac9-9a96-3bf24f6b364b",
   "metadata": {},
   "outputs": [],
   "source": [
    "data_filtered2 = data_filtered.loc[0:636699,['cluster_number','percentage_pov_head','percentage_pov_household', 'average_cluster_wealth_score']]"
   ]
  },
  {
   "cell_type": "code",
   "execution_count": 22,
   "id": "ab215a35-e6ec-4d3e-921f-27dc6f805596",
   "metadata": {},
   "outputs": [],
   "source": [
    "data_filtered2 = data_filtered2.drop_duplicates()"
   ]
  },
  {
   "cell_type": "code",
   "execution_count": 23,
   "id": "b4ff2e93-5ef3-4dba-b1a5-09f2bd4c5554",
   "metadata": {},
   "outputs": [
    {
     "data": {
      "text/plain": [
       "(30170, 4)"
      ]
     },
     "execution_count": 23,
     "metadata": {},
     "output_type": "execute_result"
    }
   ],
   "source": [
    "data_filtered2.shape"
   ]
  },
  {
   "cell_type": "code",
   "execution_count": 24,
   "id": "e3d7e3c7-0dea-4495-9fe5-4747781c626f",
   "metadata": {},
   "outputs": [],
   "source": [
    "data_filtered2 = data_filtered2.sort_values(\"cluster_number\")"
   ]
  },
  {
   "cell_type": "markdown",
   "id": "dd0d68fe-7437-476a-8cf7-5bc86daafe29",
   "metadata": {},
   "source": [
    "## Merging GPS info to new dataframe"
   ]
  },
  {
   "cell_type": "code",
   "execution_count": 25,
   "id": "ab60ce13-dea1-4de4-a8ae-b2bbeffce70e",
   "metadata": {},
   "outputs": [],
   "source": [
    "df_gps = pd.read_csv('../rawdata/dhs_survey_india/indiagpsinfo.csv')"
   ]
  },
  {
   "cell_type": "code",
   "execution_count": 26,
   "id": "f7e869e9-f6ea-4fdd-b4a4-49b8724f3173",
   "metadata": {},
   "outputs": [
    {
     "data": {
      "text/plain": [
       "(30170, 4)"
      ]
     },
     "execution_count": 26,
     "metadata": {},
     "output_type": "execute_result"
    }
   ],
   "source": [
    "data_filtered2.shape"
   ]
  },
  {
   "cell_type": "code",
   "execution_count": 27,
   "id": "e6101b47-3794-4e36-b47b-1ff1422938db",
   "metadata": {},
   "outputs": [
    {
     "data": {
      "text/plain": [
       "(30197, 8)"
      ]
     },
     "execution_count": 27,
     "metadata": {},
     "output_type": "execute_result"
    }
   ],
   "source": [
    "df_gps.shape"
   ]
  },
  {
   "cell_type": "code",
   "execution_count": 28,
   "id": "f4eee9e9-0f45-462f-b182-9e078e8594da",
   "metadata": {},
   "outputs": [
    {
     "data": {
      "text/html": [
       "<div>\n",
       "<style scoped>\n",
       "    .dataframe tbody tr th:only-of-type {\n",
       "        vertical-align: middle;\n",
       "    }\n",
       "\n",
       "    .dataframe tbody tr th {\n",
       "        vertical-align: top;\n",
       "    }\n",
       "\n",
       "    .dataframe thead th {\n",
       "        text-align: right;\n",
       "    }\n",
       "</style>\n",
       "<table border=\"1\" class=\"dataframe\">\n",
       "  <thead>\n",
       "    <tr style=\"text-align: right;\">\n",
       "      <th></th>\n",
       "      <th>cluster_number</th>\n",
       "      <th>percentage_pov_head</th>\n",
       "      <th>percentage_pov_household</th>\n",
       "      <th>average_cluster_wealth_score</th>\n",
       "    </tr>\n",
       "  </thead>\n",
       "  <tbody>\n",
       "    <tr>\n",
       "      <th>862</th>\n",
       "      <td>101</td>\n",
       "      <td>0.660870</td>\n",
       "      <td>0.681818</td>\n",
       "      <td>-4.186812e+05</td>\n",
       "    </tr>\n",
       "    <tr>\n",
       "      <th>151</th>\n",
       "      <td>102</td>\n",
       "      <td>0.236220</td>\n",
       "      <td>0.227273</td>\n",
       "      <td>3.454866e+05</td>\n",
       "    </tr>\n",
       "    <tr>\n",
       "      <th>453</th>\n",
       "      <td>103</td>\n",
       "      <td>0.355769</td>\n",
       "      <td>0.363636</td>\n",
       "      <td>1.629703e+05</td>\n",
       "    </tr>\n",
       "    <tr>\n",
       "      <th>433</th>\n",
       "      <td>104</td>\n",
       "      <td>0.764228</td>\n",
       "      <td>0.750000</td>\n",
       "      <td>-6.710932e+05</td>\n",
       "    </tr>\n",
       "    <tr>\n",
       "      <th>260</th>\n",
       "      <td>105</td>\n",
       "      <td>1.000000</td>\n",
       "      <td>1.000000</td>\n",
       "      <td>-1.119339e+06</td>\n",
       "    </tr>\n",
       "    <tr>\n",
       "      <th>...</th>\n",
       "      <td>...</td>\n",
       "      <td>...</td>\n",
       "      <td>...</td>\n",
       "      <td>...</td>\n",
       "    </tr>\n",
       "    <tr>\n",
       "      <th>339074</th>\n",
       "      <td>93238</td>\n",
       "      <td>0.547619</td>\n",
       "      <td>0.636364</td>\n",
       "      <td>-4.512492e+05</td>\n",
       "    </tr>\n",
       "    <tr>\n",
       "      <th>339008</th>\n",
       "      <td>93239</td>\n",
       "      <td>0.780822</td>\n",
       "      <td>0.772727</td>\n",
       "      <td>-8.176677e+05</td>\n",
       "    </tr>\n",
       "    <tr>\n",
       "      <th>338527</th>\n",
       "      <td>93240</td>\n",
       "      <td>0.443182</td>\n",
       "      <td>0.500000</td>\n",
       "      <td>-2.034947e+05</td>\n",
       "    </tr>\n",
       "    <tr>\n",
       "      <th>339116</th>\n",
       "      <td>93241</td>\n",
       "      <td>0.882353</td>\n",
       "      <td>0.863636</td>\n",
       "      <td>-1.081512e+06</td>\n",
       "    </tr>\n",
       "    <tr>\n",
       "      <th>338899</th>\n",
       "      <td>93242</td>\n",
       "      <td>0.738636</td>\n",
       "      <td>0.818182</td>\n",
       "      <td>-9.698430e+05</td>\n",
       "    </tr>\n",
       "  </tbody>\n",
       "</table>\n",
       "<p>30170 rows × 4 columns</p>\n",
       "</div>"
      ],
      "text/plain": [
       "        cluster_number  percentage_pov_head  percentage_pov_household  \\\n",
       "862                101             0.660870                  0.681818   \n",
       "151                102             0.236220                  0.227273   \n",
       "453                103             0.355769                  0.363636   \n",
       "433                104             0.764228                  0.750000   \n",
       "260                105             1.000000                  1.000000   \n",
       "...                ...                  ...                       ...   \n",
       "339074           93238             0.547619                  0.636364   \n",
       "339008           93239             0.780822                  0.772727   \n",
       "338527           93240             0.443182                  0.500000   \n",
       "339116           93241             0.882353                  0.863636   \n",
       "338899           93242             0.738636                  0.818182   \n",
       "\n",
       "        average_cluster_wealth_score  \n",
       "862                    -4.186812e+05  \n",
       "151                     3.454866e+05  \n",
       "453                     1.629703e+05  \n",
       "433                    -6.710932e+05  \n",
       "260                    -1.119339e+06  \n",
       "...                              ...  \n",
       "339074                 -4.512492e+05  \n",
       "339008                 -8.176677e+05  \n",
       "338527                 -2.034947e+05  \n",
       "339116                 -1.081512e+06  \n",
       "338899                 -9.698430e+05  \n",
       "\n",
       "[30170 rows x 4 columns]"
      ]
     },
     "execution_count": 28,
     "metadata": {},
     "output_type": "execute_result"
    }
   ],
   "source": [
    "data_filtered2"
   ]
  },
  {
   "cell_type": "code",
   "execution_count": 29,
   "id": "93565522-52d2-4449-9944-5fa2ed6e9b61",
   "metadata": {},
   "outputs": [
    {
     "data": {
      "text/html": [
       "<div>\n",
       "<style scoped>\n",
       "    .dataframe tbody tr th:only-of-type {\n",
       "        vertical-align: middle;\n",
       "    }\n",
       "\n",
       "    .dataframe tbody tr th {\n",
       "        vertical-align: top;\n",
       "    }\n",
       "\n",
       "    .dataframe thead th {\n",
       "        text-align: right;\n",
       "    }\n",
       "</style>\n",
       "<table border=\"1\" class=\"dataframe\">\n",
       "  <thead>\n",
       "    <tr style=\"text-align: right;\">\n",
       "      <th></th>\n",
       "      <th>cluster_number</th>\n",
       "      <th>ADM1DHS</th>\n",
       "      <th>ADM1NAME</th>\n",
       "      <th>DHSREGCO</th>\n",
       "      <th>DHSREGNA</th>\n",
       "      <th>URBAN_RURA</th>\n",
       "      <th>LATNUM</th>\n",
       "      <th>LONGNUM</th>\n",
       "    </tr>\n",
       "  </thead>\n",
       "  <tbody>\n",
       "    <tr>\n",
       "      <th>0</th>\n",
       "      <td>101.0</td>\n",
       "      <td>1.0</td>\n",
       "      <td>JAMMU &amp; KASHMIR</td>\n",
       "      <td>1.0</td>\n",
       "      <td>Kupwara</td>\n",
       "      <td>U</td>\n",
       "      <td>34.382727</td>\n",
       "      <td>73.848621</td>\n",
       "    </tr>\n",
       "    <tr>\n",
       "      <th>1</th>\n",
       "      <td>102.0</td>\n",
       "      <td>1.0</td>\n",
       "      <td>JAMMU &amp; KASHMIR</td>\n",
       "      <td>1.0</td>\n",
       "      <td>Kupwara</td>\n",
       "      <td>R</td>\n",
       "      <td>34.404180</td>\n",
       "      <td>74.294310</td>\n",
       "    </tr>\n",
       "    <tr>\n",
       "      <th>2</th>\n",
       "      <td>103.0</td>\n",
       "      <td>1.0</td>\n",
       "      <td>JAMMU &amp; KASHMIR</td>\n",
       "      <td>1.0</td>\n",
       "      <td>Kupwara</td>\n",
       "      <td>R</td>\n",
       "      <td>34.455160</td>\n",
       "      <td>74.364586</td>\n",
       "    </tr>\n",
       "    <tr>\n",
       "      <th>3</th>\n",
       "      <td>104.0</td>\n",
       "      <td>1.0</td>\n",
       "      <td>JAMMU &amp; KASHMIR</td>\n",
       "      <td>1.0</td>\n",
       "      <td>Kupwara</td>\n",
       "      <td>R</td>\n",
       "      <td>34.559398</td>\n",
       "      <td>74.068008</td>\n",
       "    </tr>\n",
       "    <tr>\n",
       "      <th>4</th>\n",
       "      <td>105.0</td>\n",
       "      <td>1.0</td>\n",
       "      <td>JAMMU &amp; KASHMIR</td>\n",
       "      <td>1.0</td>\n",
       "      <td>Kupwara</td>\n",
       "      <td>R</td>\n",
       "      <td>34.457346</td>\n",
       "      <td>74.094578</td>\n",
       "    </tr>\n",
       "    <tr>\n",
       "      <th>...</th>\n",
       "      <td>...</td>\n",
       "      <td>...</td>\n",
       "      <td>...</td>\n",
       "      <td>...</td>\n",
       "      <td>...</td>\n",
       "      <td>...</td>\n",
       "      <td>...</td>\n",
       "      <td>...</td>\n",
       "    </tr>\n",
       "    <tr>\n",
       "      <th>30192</th>\n",
       "      <td>93238.0</td>\n",
       "      <td>19.0</td>\n",
       "      <td>WEST BENGAL</td>\n",
       "      <td>932.0</td>\n",
       "      <td>Purba Barddhaman</td>\n",
       "      <td>R</td>\n",
       "      <td>23.191093</td>\n",
       "      <td>88.056766</td>\n",
       "    </tr>\n",
       "    <tr>\n",
       "      <th>30193</th>\n",
       "      <td>93239.0</td>\n",
       "      <td>19.0</td>\n",
       "      <td>WEST BENGAL</td>\n",
       "      <td>932.0</td>\n",
       "      <td>Purba Barddhaman</td>\n",
       "      <td>R</td>\n",
       "      <td>23.395079</td>\n",
       "      <td>88.139663</td>\n",
       "    </tr>\n",
       "    <tr>\n",
       "      <th>30194</th>\n",
       "      <td>93240.0</td>\n",
       "      <td>19.0</td>\n",
       "      <td>WEST BENGAL</td>\n",
       "      <td>932.0</td>\n",
       "      <td>Purba Barddhaman</td>\n",
       "      <td>R</td>\n",
       "      <td>23.205505</td>\n",
       "      <td>88.308991</td>\n",
       "    </tr>\n",
       "    <tr>\n",
       "      <th>30195</th>\n",
       "      <td>93241.0</td>\n",
       "      <td>19.0</td>\n",
       "      <td>WEST BENGAL</td>\n",
       "      <td>932.0</td>\n",
       "      <td>Purba Barddhaman</td>\n",
       "      <td>R</td>\n",
       "      <td>23.097570</td>\n",
       "      <td>88.092668</td>\n",
       "    </tr>\n",
       "    <tr>\n",
       "      <th>30196</th>\n",
       "      <td>93242.0</td>\n",
       "      <td>19.0</td>\n",
       "      <td>WEST BENGAL</td>\n",
       "      <td>932.0</td>\n",
       "      <td>Purba Barddhaman</td>\n",
       "      <td>R</td>\n",
       "      <td>23.520542</td>\n",
       "      <td>87.768405</td>\n",
       "    </tr>\n",
       "  </tbody>\n",
       "</table>\n",
       "<p>30197 rows × 8 columns</p>\n",
       "</div>"
      ],
      "text/plain": [
       "       cluster_number  ADM1DHS         ADM1NAME  DHSREGCO          DHSREGNA  \\\n",
       "0               101.0      1.0  JAMMU & KASHMIR       1.0           Kupwara   \n",
       "1               102.0      1.0  JAMMU & KASHMIR       1.0           Kupwara   \n",
       "2               103.0      1.0  JAMMU & KASHMIR       1.0           Kupwara   \n",
       "3               104.0      1.0  JAMMU & KASHMIR       1.0           Kupwara   \n",
       "4               105.0      1.0  JAMMU & KASHMIR       1.0           Kupwara   \n",
       "...               ...      ...              ...       ...               ...   \n",
       "30192         93238.0     19.0      WEST BENGAL     932.0  Purba Barddhaman   \n",
       "30193         93239.0     19.0      WEST BENGAL     932.0  Purba Barddhaman   \n",
       "30194         93240.0     19.0      WEST BENGAL     932.0  Purba Barddhaman   \n",
       "30195         93241.0     19.0      WEST BENGAL     932.0  Purba Barddhaman   \n",
       "30196         93242.0     19.0      WEST BENGAL     932.0  Purba Barddhaman   \n",
       "\n",
       "      URBAN_RURA     LATNUM    LONGNUM  \n",
       "0              U  34.382727  73.848621  \n",
       "1              R  34.404180  74.294310  \n",
       "2              R  34.455160  74.364586  \n",
       "3              R  34.559398  74.068008  \n",
       "4              R  34.457346  74.094578  \n",
       "...          ...        ...        ...  \n",
       "30192          R  23.191093  88.056766  \n",
       "30193          R  23.395079  88.139663  \n",
       "30194          R  23.205505  88.308991  \n",
       "30195          R  23.097570  88.092668  \n",
       "30196          R  23.520542  87.768405  \n",
       "\n",
       "[30197 rows x 8 columns]"
      ]
     },
     "execution_count": 29,
     "metadata": {},
     "output_type": "execute_result"
    }
   ],
   "source": [
    "df_gps=df_gps.rename(columns = {'DHSCLUST':'cluster_number'})\n",
    "df_gps"
   ]
  },
  {
   "cell_type": "code",
   "execution_count": 31,
   "id": "6d01f630-58f9-4a89-bd5d-7d9b290b1da4",
   "metadata": {},
   "outputs": [
    {
     "data": {
      "text/html": [
       "<div>\n",
       "<style scoped>\n",
       "    .dataframe tbody tr th:only-of-type {\n",
       "        vertical-align: middle;\n",
       "    }\n",
       "\n",
       "    .dataframe tbody tr th {\n",
       "        vertical-align: top;\n",
       "    }\n",
       "\n",
       "    .dataframe thead th {\n",
       "        text-align: right;\n",
       "    }\n",
       "</style>\n",
       "<table border=\"1\" class=\"dataframe\">\n",
       "  <thead>\n",
       "    <tr style=\"text-align: right;\">\n",
       "      <th></th>\n",
       "      <th>cluster_number</th>\n",
       "      <th>ADM1DHS</th>\n",
       "      <th>ADM1NAME</th>\n",
       "      <th>DHSREGCO</th>\n",
       "      <th>DHSREGNA</th>\n",
       "      <th>URBAN_RURA</th>\n",
       "      <th>LATNUM</th>\n",
       "      <th>LONGNUM</th>\n",
       "      <th>percentage_pov_head</th>\n",
       "      <th>percentage_pov_household</th>\n",
       "      <th>average_cluster_wealth_score</th>\n",
       "    </tr>\n",
       "  </thead>\n",
       "  <tbody>\n",
       "    <tr>\n",
       "      <th>0</th>\n",
       "      <td>101.0</td>\n",
       "      <td>1.0</td>\n",
       "      <td>JAMMU &amp; KASHMIR</td>\n",
       "      <td>1.0</td>\n",
       "      <td>Kupwara</td>\n",
       "      <td>U</td>\n",
       "      <td>34.382727</td>\n",
       "      <td>73.848621</td>\n",
       "      <td>0.660870</td>\n",
       "      <td>0.681818</td>\n",
       "      <td>-4.186812e+05</td>\n",
       "    </tr>\n",
       "    <tr>\n",
       "      <th>1</th>\n",
       "      <td>102.0</td>\n",
       "      <td>1.0</td>\n",
       "      <td>JAMMU &amp; KASHMIR</td>\n",
       "      <td>1.0</td>\n",
       "      <td>Kupwara</td>\n",
       "      <td>R</td>\n",
       "      <td>34.404180</td>\n",
       "      <td>74.294310</td>\n",
       "      <td>0.236220</td>\n",
       "      <td>0.227273</td>\n",
       "      <td>3.454866e+05</td>\n",
       "    </tr>\n",
       "    <tr>\n",
       "      <th>2</th>\n",
       "      <td>103.0</td>\n",
       "      <td>1.0</td>\n",
       "      <td>JAMMU &amp; KASHMIR</td>\n",
       "      <td>1.0</td>\n",
       "      <td>Kupwara</td>\n",
       "      <td>R</td>\n",
       "      <td>34.455160</td>\n",
       "      <td>74.364586</td>\n",
       "      <td>0.355769</td>\n",
       "      <td>0.363636</td>\n",
       "      <td>1.629703e+05</td>\n",
       "    </tr>\n",
       "    <tr>\n",
       "      <th>3</th>\n",
       "      <td>104.0</td>\n",
       "      <td>1.0</td>\n",
       "      <td>JAMMU &amp; KASHMIR</td>\n",
       "      <td>1.0</td>\n",
       "      <td>Kupwara</td>\n",
       "      <td>R</td>\n",
       "      <td>34.559398</td>\n",
       "      <td>74.068008</td>\n",
       "      <td>0.764228</td>\n",
       "      <td>0.750000</td>\n",
       "      <td>-6.710932e+05</td>\n",
       "    </tr>\n",
       "    <tr>\n",
       "      <th>4</th>\n",
       "      <td>105.0</td>\n",
       "      <td>1.0</td>\n",
       "      <td>JAMMU &amp; KASHMIR</td>\n",
       "      <td>1.0</td>\n",
       "      <td>Kupwara</td>\n",
       "      <td>R</td>\n",
       "      <td>34.457346</td>\n",
       "      <td>74.094578</td>\n",
       "      <td>1.000000</td>\n",
       "      <td>1.000000</td>\n",
       "      <td>-1.119339e+06</td>\n",
       "    </tr>\n",
       "    <tr>\n",
       "      <th>...</th>\n",
       "      <td>...</td>\n",
       "      <td>...</td>\n",
       "      <td>...</td>\n",
       "      <td>...</td>\n",
       "      <td>...</td>\n",
       "      <td>...</td>\n",
       "      <td>...</td>\n",
       "      <td>...</td>\n",
       "      <td>...</td>\n",
       "      <td>...</td>\n",
       "      <td>...</td>\n",
       "    </tr>\n",
       "    <tr>\n",
       "      <th>30192</th>\n",
       "      <td>93238.0</td>\n",
       "      <td>19.0</td>\n",
       "      <td>WEST BENGAL</td>\n",
       "      <td>932.0</td>\n",
       "      <td>Purba Barddhaman</td>\n",
       "      <td>R</td>\n",
       "      <td>23.191093</td>\n",
       "      <td>88.056766</td>\n",
       "      <td>0.547619</td>\n",
       "      <td>0.636364</td>\n",
       "      <td>-4.512492e+05</td>\n",
       "    </tr>\n",
       "    <tr>\n",
       "      <th>30193</th>\n",
       "      <td>93239.0</td>\n",
       "      <td>19.0</td>\n",
       "      <td>WEST BENGAL</td>\n",
       "      <td>932.0</td>\n",
       "      <td>Purba Barddhaman</td>\n",
       "      <td>R</td>\n",
       "      <td>23.395079</td>\n",
       "      <td>88.139663</td>\n",
       "      <td>0.780822</td>\n",
       "      <td>0.772727</td>\n",
       "      <td>-8.176677e+05</td>\n",
       "    </tr>\n",
       "    <tr>\n",
       "      <th>30194</th>\n",
       "      <td>93240.0</td>\n",
       "      <td>19.0</td>\n",
       "      <td>WEST BENGAL</td>\n",
       "      <td>932.0</td>\n",
       "      <td>Purba Barddhaman</td>\n",
       "      <td>R</td>\n",
       "      <td>23.205505</td>\n",
       "      <td>88.308991</td>\n",
       "      <td>0.443182</td>\n",
       "      <td>0.500000</td>\n",
       "      <td>-2.034947e+05</td>\n",
       "    </tr>\n",
       "    <tr>\n",
       "      <th>30195</th>\n",
       "      <td>93241.0</td>\n",
       "      <td>19.0</td>\n",
       "      <td>WEST BENGAL</td>\n",
       "      <td>932.0</td>\n",
       "      <td>Purba Barddhaman</td>\n",
       "      <td>R</td>\n",
       "      <td>23.097570</td>\n",
       "      <td>88.092668</td>\n",
       "      <td>0.882353</td>\n",
       "      <td>0.863636</td>\n",
       "      <td>-1.081512e+06</td>\n",
       "    </tr>\n",
       "    <tr>\n",
       "      <th>30196</th>\n",
       "      <td>93242.0</td>\n",
       "      <td>19.0</td>\n",
       "      <td>WEST BENGAL</td>\n",
       "      <td>932.0</td>\n",
       "      <td>Purba Barddhaman</td>\n",
       "      <td>R</td>\n",
       "      <td>23.520542</td>\n",
       "      <td>87.768405</td>\n",
       "      <td>0.738636</td>\n",
       "      <td>0.818182</td>\n",
       "      <td>-9.698430e+05</td>\n",
       "    </tr>\n",
       "  </tbody>\n",
       "</table>\n",
       "<p>30197 rows × 11 columns</p>\n",
       "</div>"
      ],
      "text/plain": [
       "       cluster_number  ADM1DHS         ADM1NAME  DHSREGCO          DHSREGNA  \\\n",
       "0               101.0      1.0  JAMMU & KASHMIR       1.0           Kupwara   \n",
       "1               102.0      1.0  JAMMU & KASHMIR       1.0           Kupwara   \n",
       "2               103.0      1.0  JAMMU & KASHMIR       1.0           Kupwara   \n",
       "3               104.0      1.0  JAMMU & KASHMIR       1.0           Kupwara   \n",
       "4               105.0      1.0  JAMMU & KASHMIR       1.0           Kupwara   \n",
       "...               ...      ...              ...       ...               ...   \n",
       "30192         93238.0     19.0      WEST BENGAL     932.0  Purba Barddhaman   \n",
       "30193         93239.0     19.0      WEST BENGAL     932.0  Purba Barddhaman   \n",
       "30194         93240.0     19.0      WEST BENGAL     932.0  Purba Barddhaman   \n",
       "30195         93241.0     19.0      WEST BENGAL     932.0  Purba Barddhaman   \n",
       "30196         93242.0     19.0      WEST BENGAL     932.0  Purba Barddhaman   \n",
       "\n",
       "      URBAN_RURA     LATNUM    LONGNUM  percentage_pov_head  \\\n",
       "0              U  34.382727  73.848621             0.660870   \n",
       "1              R  34.404180  74.294310             0.236220   \n",
       "2              R  34.455160  74.364586             0.355769   \n",
       "3              R  34.559398  74.068008             0.764228   \n",
       "4              R  34.457346  74.094578             1.000000   \n",
       "...          ...        ...        ...                  ...   \n",
       "30192          R  23.191093  88.056766             0.547619   \n",
       "30193          R  23.395079  88.139663             0.780822   \n",
       "30194          R  23.205505  88.308991             0.443182   \n",
       "30195          R  23.097570  88.092668             0.882353   \n",
       "30196          R  23.520542  87.768405             0.738636   \n",
       "\n",
       "       percentage_pov_household  average_cluster_wealth_score  \n",
       "0                      0.681818                 -4.186812e+05  \n",
       "1                      0.227273                  3.454866e+05  \n",
       "2                      0.363636                  1.629703e+05  \n",
       "3                      0.750000                 -6.710932e+05  \n",
       "4                      1.000000                 -1.119339e+06  \n",
       "...                         ...                           ...  \n",
       "30192                  0.636364                 -4.512492e+05  \n",
       "30193                  0.772727                 -8.176677e+05  \n",
       "30194                  0.500000                 -2.034947e+05  \n",
       "30195                  0.863636                 -1.081512e+06  \n",
       "30196                  0.818182                 -9.698430e+05  \n",
       "\n",
       "[30197 rows x 11 columns]"
      ]
     },
     "execution_count": 31,
     "metadata": {},
     "output_type": "execute_result"
    }
   ],
   "source": [
    "df_final=df_gps.merge(data_filtered2, on='cluster_number', how='outer')\n",
    "df_final"
   ]
  },
  {
   "cell_type": "code",
   "execution_count": 32,
   "id": "3c3f2f7f-83d0-487d-ba30-9c62ec30331a",
   "metadata": {},
   "outputs": [
    {
     "data": {
      "image/png": "[encoded data removed]",
      "text/plain": [
       "<Figure size 432x288 with 1 Axes>"
      ]
     },
     "metadata": {
      "needs_background": "light"
     },
     "output_type": "display_data"
    }
   ],
   "source": [
    "import matplotlib.pyplot as plt\n",
    "df_final[['percentage_pov_household']].plot(kind='hist',rwidth=0.8)\n",
    "plt.show()"
   ]
  },
  {
   "cell_type": "code",
   "execution_count": 33,
   "id": "3d839376-5fd0-4ef1-a911-9e7eafa181be",
   "metadata": {},
   "outputs": [
    {
     "data": {
      "image/png": "[encoded data removed]",
      "text/plain": [
       "<Figure size 432x288 with 1 Axes>"
      ]
     },
     "metadata": {
      "needs_background": "light"
     },
     "output_type": "display_data"
    }
   ],
   "source": [
    "df_final[['percentage_pov_head']].plot(kind='hist',rwidth=0.8)\n",
    "plt.show()"
   ]
  },
  {
   "cell_type": "code",
   "execution_count": 34,
   "id": "71cefdf2-3a2d-4517-a4d2-ec3b6f980c18",
   "metadata": {},
   "outputs": [
    {
     "data": {
      "image/png": "[encoded data removed]",
      "text/plain": [
       "<Figure size 432x288 with 1 Axes>"
      ]
     },
     "metadata": {
      "needs_background": "light"
     },
     "output_type": "display_data"
    }
   ],
   "source": [
    "df_final[['average_cluster_wealth_score']].plot(kind='hist',rwidth=0.8)\n",
    "plt.show()"
   ]
  },
  {
   "cell_type": "code",
   "execution_count": 35,
   "id": "acbe5499-21eb-485e-893e-adc668bd2c2b",
   "metadata": {},
   "outputs": [
    {
     "data": {
      "text/plain": [
       "<AxesSubplot:xlabel='percentage_pov_household', ylabel='Count'>"
      ]
     },
     "execution_count": 35,
     "metadata": {},
     "output_type": "execute_result"
    },
    {
     "data": {
      "image/png": "[encoded data removed]",
      "text/plain": [
       "<Figure size 432x288 with 1 Axes>"
      ]
     },
     "metadata": {
      "needs_background": "light"
     },
     "output_type": "display_data"
    }
   ],
   "source": [
    "import seaborn as sns\n",
    "\n",
    "sns.histplot(data=df_final, x=\"percentage_pov_household\", hue=\"URBAN_RURA\")"
   ]
  },
  {
   "cell_type": "code",
   "execution_count": 36,
   "id": "f40aad7c-e813-4a13-8ef7-5811c68fd289",
   "metadata": {},
   "outputs": [
    {
     "data": {
      "text/plain": [
       "<AxesSubplot:xlabel='percentage_pov_head', ylabel='Count'>"
      ]
     },
     "execution_count": 36,
     "metadata": {},
     "output_type": "execute_result"
    },
    {
     "data": {
      "image/png": "[encoded data removed]",
      "text/plain": [
       "<Figure size 432x288 with 1 Axes>"
      ]
     },
     "metadata": {
      "needs_background": "light"
     },
     "output_type": "display_data"
    }
   ],
   "source": [
    "import seaborn as sns\n",
    "\n",
    "sns.histplot(data=df_final, x=\"percentage_pov_head\", hue=\"URBAN_RURA\")"
   ]
  },
  {
   "cell_type": "code",
   "execution_count": 37,
   "id": "a19a23c5-9784-4adb-ab4f-7d8e6b3c9cdb",
   "metadata": {},
   "outputs": [
    {
     "data": {
      "text/plain": [
       "<AxesSubplot:xlabel='average_cluster_wealth_score', ylabel='Count'>"
      ]
     },
     "execution_count": 37,
     "metadata": {},
     "output_type": "execute_result"
    },
    {
     "data": {
      "image/png": "[encoded data removed]",
      "text/plain": [
       "<Figure size 432x288 with 1 Axes>"
      ]
     },
     "metadata": {
      "needs_background": "light"
     },
     "output_type": "display_data"
    }
   ],
   "source": [
    "import seaborn as sns\n",
    "\n",
    "sns.histplot(data=df_final, x=\"average_cluster_wealth_score\", hue=\"URBAN_RURA\")"
   ]
  },
  {
   "cell_type": "code",
   "execution_count": null,
   "id": "607f8627-aa4a-4ba5-b62d-dd53268f6aa7",
   "metadata": {},
   "outputs": [],
   "source": []
  }
 ],
 "metadata": {
  "kernelspec": {
   "display_name": "Python 3 (ipykernel)",
   "language": "python",
   "name": "python3"
  },
  "language_info": {
   "codemirror_mode": {
    "name": "ipython",
    "version": 3
   },
   "file_extension": ".py",
   "mimetype": "text/x-python",
   "name": "python",
   "nbconvert_exporter": "python",
   "pygments_lexer": "ipython3",
   "version": "3.8.12"
  }
 },
 "nbformat": 4,
 "nbformat_minor": 5
}
